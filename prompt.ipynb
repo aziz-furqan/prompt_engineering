{
 "cells": [
  {
   "cell_type": "code",
   "execution_count": 95,
   "id": "121ca6d5-722e-4ffb-b044-c4b98c4d729c",
   "metadata": {},
   "outputs": [],
   "source": [
    "import openai\n",
    "import os\n",
    "from dotenv import load_dotenv"
   ]
  },
  {
   "cell_type": "code",
   "execution_count": 96,
   "id": "275f8df4-631f-4ebe-ae4b-c9ba9f03f09b",
   "metadata": {},
   "outputs": [
    {
     "data": {
      "text/plain": [
       "True"
      ]
     },
     "execution_count": 96,
     "metadata": {},
     "output_type": "execute_result"
    }
   ],
   "source": [
    "load_dotenv()"
   ]
  },
  {
   "cell_type": "code",
   "execution_count": 97,
   "id": "8e56f8a0-0f68-4bd6-b5b4-417d8d2e5d26",
   "metadata": {},
   "outputs": [],
   "source": [
    "openai.api_key = os.getenv(\"OPENAI_API_KEY\")"
   ]
  },
  {
   "cell_type": "code",
   "execution_count": 105,
   "id": "8af45eb6-ba7f-4e49-8df1-112b101b129a",
   "metadata": {},
   "outputs": [],
   "source": [
    "def get_completion(\n",
    "        prompt: str,\n",
    "        system_prompt,\n",
    "        prev_messages=[]\n",
    "    ):\n",
    "    messages = [{\"role\": \"system\", \"content\": system_prompt}]\n",
    "    messages.extend(prev_messages)\n",
    "    messages.append({\"role\": \"user\", \"content\": prompt.strip()})\n",
    "    # For CLI info\n",
    "    print(\"--Sending request to OpenAI endpoint--\")\n",
    "\n",
    "    try:\n",
    "        response = openai.ChatCompletion.create(\n",
    "            model='gpt-3.5-turbo',\n",
    "            messages=messages,\n",
    "            temperature=0,\n",
    "            top_p=1,\n",
    "            frequency_penalty=0,\n",
    "            presence_penalty=2,\n",
    "            max_tokens = 400\n",
    "        )\n",
    "    except (openai.error.APIError, openai.error.RateLimitError, openai.error.APIConnectionError) as e:\n",
    "        # Handle API errors and retry the request\n",
    "        print(\"API Error:\", e)\n",
    "        print(\"Retrying the request...\")\n",
    "        return get_completion(prompt, system_prompt, prev_messages)\n",
    "    \n",
    "    return response.choices[0].message[\"content\"]"
   ]
  },
  {
   "cell_type": "markdown",
   "id": "af115d04-835e-4040-a88b-4943c99113ac",
   "metadata": {
    "jp-MarkdownHeadingCollapsed": true
   },
   "source": [
    "# Method 1: Roles Assigned through System Prompt"
   ]
  },
  {
   "cell_type": "markdown",
   "id": "fd270483-eae5-4d4e-a58b-75b37ed0f77f",
   "metadata": {},
   "source": [
    "## Task 1"
   ]
  },
  {
   "cell_type": "code",
   "execution_count": 106,
   "id": "7a616115-345b-4c5f-b26b-926e02ebdb01",
   "metadata": {},
   "outputs": [
    {
     "name": "stdout",
     "output_type": "stream",
     "text": [
      "--Sending request to OpenAI endpoint--\n",
      "[\n",
      "  {\n",
      "    \"department\": \"Software Development\",\n",
      "    \"role\": \"Software Engineer\",\n",
      "    \"yearly_salary\": \"$100,000\",\n",
      "    \"bonus\": \"$10,000\",\n",
      "    \"start_date\": \"2020-01-01\"\n",
      "  },\n",
      "  {\n",
      "    \"department\": \"Hardware Engineering\",\n",
      "    \"role\": \"Hardware Engineer\",\n",
      "    \"yearly_salary\": \"$110,000\",\n",
      "    \"bonus\": \"$12,000\",\n",
      "    \"start_date\": \"2019-05-15\"\n",
      "  },\n",
      "  {\n",
      "    \"department\": \"Data Science\",\n",
      "    \"role\": \"Data Engineer\",\n",
      "    \"yearly_salary\": \"$120,000\",\n",
      "    \"bonus\": \"$15,000\",\n",
      "    \"start_date\": \"2018-09-30\"\n",
      "  }\n",
      "]\n"
     ]
    }
   ],
   "source": [
    "system_prompt =f'''\n",
    "    You are an Employee Roles Suggestion Expert. You take Company sector and employee partial title as input and return Employee information.\n",
    "'''.strip()\n",
    "\n",
    "company_sector = \"Technology\"\n",
    "employee_title_string = \"Engineer\"\n",
    "\n",
    "employee_prompt = f'''\n",
    "Company Sector: {company_sector}\n",
    "\n",
    "Partial Employee title: {employee_title_string}\n",
    "\n",
    "Give suggestions for employees.\n",
    "\n",
    "OUTPUT FORMAT: list of \"JSON\" format with the following keys: [\"department\", \"role\", \"yearly_salary\", \"bonus\", \"start_date\"].\n",
    "\n",
    "ONLY REPLY WITH THE \"JSON\" REPRESENTATION OF THE TOPICS. DO NOT ADD ANY COMMENTS OR NOTES.\n",
    "'''\n",
    "\n",
    "result = get_completion(employee_prompt, system_prompt)\n",
    "print(result)"
   ]
  },
  {
   "cell_type": "code",
   "execution_count": 107,
   "id": "59c67765-5b57-4090-85ba-05ca6c4b00a3",
   "metadata": {},
   "outputs": [
    {
     "name": "stdout",
     "output_type": "stream",
     "text": [
      "--Sending request to OpenAI endpoint--\n",
      "[\n",
      "  {\n",
      "    \"department\": \"Engineering\",\n",
      "    \"role\": \"Civil Engineer\",\n",
      "    \"yearly_salary\": \"$80,000\",\n",
      "    \"bonus\": \"$5,000\",\n",
      "    \"start_date\": \"2018-01-15\"\n",
      "  },\n",
      "  {\n",
      "    \"department\": \"Engineering\",\n",
      "    \"role\": \"Structural Engineer\",\n",
      "    \"yearly_salary\": \"$90,000\",\n",
      "    \"bonus\": \"$7,000\",\n",
      "    \"start_date\": \"2017-06-30\"\n",
      "  },\n",
      "  {\n",
      "    \"department\": \"Engineering\",\n",
      "    \"role\": \"Mechanical Engineer\",\n",
      "    \"yearly_salary\": \"$85,000\",\n",
      "    \"bonus\": \"$6,000\",\n",
      "    \"start_date\": \"2019-03-10\"\n",
      "  }\n",
      "]\n"
     ]
    }
   ],
   "source": [
    "system_prompt =f'''\n",
    "    You are an Employee Roles Suggestion Expert. You take Company sector and employee partial title as input and return Employee information.\n",
    "'''.strip()\n",
    "\n",
    "company_sector = \"Construction\"\n",
    "employee_title_string = \"Engineer\"\n",
    "\n",
    "employee_prompt = f'''\n",
    "Company Sector: {company_sector}\n",
    "\n",
    "Partial Employee title: {employee_title_string}\n",
    "\n",
    "Give suggestions for employees.\n",
    "\n",
    "OUTPUT FORMAT: list of \"JSON\" format with the following keys: [\"department\", \"role\", \"yearly_salary\", \"bonus\", \"start_date\"].\n",
    "\n",
    "ONLY REPLY WITH THE \"JSON\" REPRESENTATION OF THE TOPICS. DO NOT ADD ANY COMMENTS OR NOTES.\n",
    "'''\n",
    "\n",
    "result = get_completion(employee_prompt, system_prompt)\n",
    "print(result)"
   ]
  },
  {
   "cell_type": "code",
   "execution_count": 108,
   "id": "a6db1477-832f-4485-b8c4-3d57f5de470c",
   "metadata": {},
   "outputs": [
    {
     "name": "stdout",
     "output_type": "stream",
     "text": [
      "--Sending request to OpenAI endpoint--\n",
      "[\n",
      "  {\n",
      "    \"department\": \"Research and Development\",\n",
      "    \"role\": \"Pharmaceutical Analyst\",\n",
      "    \"yearly_salary\": \"$70,000\",\n",
      "    \"bonus\": \"$5,000\",\n",
      "    \"start_date\": \"2018-05-15\"\n",
      "  },\n",
      "  {\n",
      "    \"department\": \"Quality Control\",\n",
      "    \"role\": \"Analytical Chemist\",\n",
      "    \"yearly_salary\": \"$65,000\",\n",
      "    \"bonus\": \"$4,000\",\n",
      "    \"start_date\": \"2019-02-28\"\n",
      "  },\n",
      "  {\n",
      "    \"department\": \"Regulatory Affairs\",\n",
      "    \"role\": \"Regulatory Analyst\",\n",
      "    \"yearly_salary\": \"$75,000\",\n",
      "    \"bonus\": \"$6,000\",\n",
      "    \"start_date\": \"2017-09-10\"\n",
      "  }\n",
      "]\n"
     ]
    }
   ],
   "source": [
    "system_prompt =f'''\n",
    "    You are an Employee Roles Suggestion Expert. You take Company sector and employee partial title as input and return Employee information.\n",
    "'''.strip()\n",
    "\n",
    "company_sector = \"Pharmaceutical\"\n",
    "employee_title_string = \"Analyst\"\n",
    "\n",
    "employee_prompt = f'''\n",
    "Company Sector: {company_sector}\n",
    "\n",
    "Partial Employee title: {employee_title_string}\n",
    "\n",
    "Give suggestions for employees.\n",
    "\n",
    "OUTPUT FORMAT: list of \"JSON\" format with the following keys: [\"department\", \"role\", \"yearly_salary\", \"bonus\", \"start_date\"].\n",
    "\n",
    "ONLY REPLY WITH THE \"JSON\" REPRESENTATION OF THE TOPICS. DO NOT ADD ANY COMMENTS OR NOTES.\n",
    "'''\n",
    "\n",
    "result = get_completion(employee_prompt, system_prompt)\n",
    "print(result)"
   ]
  },
  {
   "cell_type": "markdown",
   "id": "612613ae-cc3d-4f2e-b67c-50a4ad7049c9",
   "metadata": {},
   "source": [
    "## Task 2"
   ]
  },
  {
   "cell_type": "code",
   "execution_count": 162,
   "id": "db120d71-5a06-456c-a360-54ac45679fd5",
   "metadata": {},
   "outputs": [
    {
     "name": "stdout",
     "output_type": "stream",
     "text": [
      "--Sending request to OpenAI endpoint--\n",
      "[\n",
      "  {\n",
      "    \"department\": \"G&A\",\n",
      "    \"role\": \"Human Resources Manager\",\n",
      "    \"yearly_salary\": \"$70,000\",\n",
      "    \"bonus\": \"$5,000\",\n",
      "    \"start_date\": \"2022-01-01\"\n",
      "  },\n",
      "  {\n",
      "    \"department\": \"R&D\",\n",
      "    \"role\": \"Civil Engineer\",\n",
      "    \"yearly_salary\": \"$80,000\",\n",
      "    \"bonus\": \"$7,000\",\n",
      "    \"start_date\": \"2022-02-15\"\n",
      "  },\n",
      "  {\n",
      "    \"department\": \"S&M\",\n",
      "    \"role\": \"Sales Representative\",\n",
      "    \"yearly_salary\": \"$60,000\",\n",
      "    \"bonus\": \"$4,000\",\n",
      "    \"start_date\": \"2022-03-01\"\n",
      "  },\n",
      "  {\n",
      "    \"department\": \"COGS\",\n",
      "    \"role\": \"Construction Worker\",\n",
      "    \"yearly_salary\": \"$40,000\",\n",
      "    \"bonus\": \"$3,000\",\n",
      "    \"start_date\": \"2022-04-01\"\n",
      "  }\n",
      "]\n"
     ]
    }
   ],
   "source": [
    "system_prompt2 = '''\n",
    "    You are Hiring Plan Suggestion Expert. You take Company information and return Employee information to hire.\n",
    "'''.strip()\n",
    "\n",
    "company_sector = \"Construction\"\n",
    "\n",
    "employee_prompt = f'''\n",
    "\n",
    "Company Sector: {company_sector}\n",
    "\n",
    "Suggest 3 employee roles for available departments i.e. G&A, R&D, S&M, COGS.\n",
    "\n",
    "OUTPUT FORMAT: \"List of JSON\" with keys: [\"department\", \"role\", \"yearly_salary\", \"bonus\", \"start_date\"].\n",
    "\n",
    "ONLY REPLY WITH THE \"JSON\" REPRESENTATION OF THE TOPICS. DO NOT ADD ANY COMMENTS OR NOTES.\n",
    "'''\n",
    "result = get_completion(employee_prompt, system_prompt2)\n",
    "print(result)"
   ]
  },
  {
   "cell_type": "code",
   "execution_count": 161,
   "id": "f2ab72f4-ac9c-46fa-af34-0189c3bc157d",
   "metadata": {},
   "outputs": [
    {
     "name": "stdout",
     "output_type": "stream",
     "text": [
      "--Sending request to OpenAI endpoint--\n",
      "[\n",
      "  {\n",
      "    \"department\": \"G&A\",\n",
      "    \"role\": \"Finance Manager\",\n",
      "    \"yearly_salary\": 100000,\n",
      "    \"bonus\": 15000,\n",
      "    \"start_date\": \"2022-01-01\"\n",
      "  },\n",
      "  {\n",
      "    \"department\": \"R&D\",\n",
      "    \"role\": \"Data Analyst\",\n",
      "    \"yearly_salary\": 80000,\n",
      "    \"bonus\": 10000,\n",
      "    \"start_date\": \"2022-02-15\"\n",
      "  },\n",
      "  {\n",
      "    \"department\": \"S&M\",\n",
      "    \"role\": \"Sales Executive\",\n",
      "    \"yearly_salary\": 90000,\n",
      "    \"bonus\": 12000,\n",
      "    \"start_date\": \"2022-03-01\"\n",
      "  }\n",
      "]\n"
     ]
    }
   ],
   "source": [
    "system_prompt2 = '''\n",
    "    You are Hiring Plan Suggestion Expert. You take Company information and return Employee information to hire.\n",
    "'''.strip()\n",
    "\n",
    "company_sector = \"Finance\"\n",
    "\n",
    "employee_prompt = f'''\n",
    "\n",
    "Company Sector: {company_sector}\n",
    "\n",
    "Suggest 3 employee roles for available departments i.e. G&A, R&D, S&M, COGS.\n",
    "\n",
    "OUTPUT FORMAT: \"List of JSON\" with keys: [\"department\", \"role\", \"yearly_salary\", \"bonus\", \"start_date\"].\n",
    "\n",
    "ONLY REPLY WITH THE \"JSON\" REPRESENTATION OF THE TOPICS. DO NOT ADD ANY COMMENTS OR NOTES.\n",
    "'''\n",
    "\n",
    "result = get_completion(employee_prompt, system_prompt2)\n",
    "print(result)"
   ]
  },
  {
   "cell_type": "code",
   "execution_count": 159,
   "id": "606f2b58-de7d-42e5-af70-02ba539652c6",
   "metadata": {},
   "outputs": [
    {
     "name": "stdout",
     "output_type": "stream",
     "text": [
      "--Sending request to OpenAI endpoint--\n",
      "[\n",
      "  {\n",
      "    \"department\": \"G&A\",\n",
      "    \"role\": \"HR Manager\",\n",
      "    \"yearly_salary\": 80000,\n",
      "    \"bonus\": 10000,\n",
      "    \"start_date\": \"2022-01-01\"\n",
      "  },\n",
      "  {\n",
      "    \"department\": \"R&D\",\n",
      "    \"role\": \"Software Engineer\",\n",
      "    \"yearly_salary\": 90000,\n",
      "    \"bonus\": 15000,\n",
      "    \"start_date\": \"2022-02-15\"\n",
      "  },\n",
      "  {\n",
      "    \"department\": \"S&M\",\n",
      "    \"role\": \"Sales Representative\",\n",
      "    \"yearly_salary\": 70000,\n",
      "    \"bonus\": 12000,\n",
      "    \"start_date\": \"2022-03-01\"\n",
      "  },\n",
      "  {\n",
      "    \"department\": \"COGS\",\n",
      "    \"role\": \"Supply Chain Analyst\",\n",
      "    \"yearly_salary\": 75000,\n",
      "    \"bonus\": 10000,\n",
      "    \"start_date\": \"2022-04-01\"\n",
      "  }\n",
      "]\n"
     ]
    }
   ],
   "source": [
    "system_prompt2 = '''\n",
    "    You are Hiring Plan Suggestion Expert. You take Company information and return Employee information to hire.\n",
    "'''.strip()\n",
    "\n",
    "company_sector = \"Tech\"\n",
    "\n",
    "employee_prompt = f'''\n",
    "\n",
    "Company Sector: {company_sector}\n",
    "\n",
    "Suggest 3 employee roles for available departments i.e. G&A, R&D, S&M, COGS.\n",
    "\n",
    "OUTPUT FORMAT: \"List of JSON\" with keys: [\"department\", \"role\", \"yearly_salary\", \"bonus\", \"start_date\"].\n",
    "\n",
    "ONLY REPLY WITH THE \"JSON\" REPRESENTATION OF THE TOPICS. DO NOT ADD ANY COMMENTS OR NOTES.\n",
    "'''\n",
    "\n",
    "result = get_completion(employee_prompt, system_prompt2)\n",
    "print(result)"
   ]
  },
  {
   "cell_type": "markdown",
   "id": "d0b26cd2-eef9-4582-8c46-fd66e2417b78",
   "metadata": {
    "jp-MarkdownHeadingCollapsed": true
   },
   "source": [
    "# Method 2: Prompt Function"
   ]
  },
  {
   "cell_type": "markdown",
   "id": "9659a738-306f-4496-b88e-4e147ec6e750",
   "metadata": {},
   "source": [
    "## Task 1"
   ]
  },
  {
   "cell_type": "code",
   "execution_count": 124,
   "id": "b3a4de98-c4c6-45c0-96da-320e19df1076",
   "metadata": {},
   "outputs": [
    {
     "name": "stdout",
     "output_type": "stream",
     "text": [
      "--Sending request to OpenAI endpoint--\n",
      "{\n",
      "  \"department\": \"Engineering\",\n",
      "  \"role\": \"Engineer\",\n",
      "  \"yearly_salary\": \"$80,000\",\n",
      "  \"bonus\": \"$5,000\",\n",
      "  \"start_date\": \"2022-01-01\"\n",
      "}\n"
     ]
    }
   ],
   "source": [
    "system_prompt =f'''\n",
    "function_name: [employee_suggest]\n",
    "input: [\"text\"]\n",
    "rule: [I want you to act as an Employee suggestion expert, I will provide you with company information and employee partial title and you \n",
    "will suggest me Employee roles information in JSON format with keys: [\"department\", \"role\", \"yearly_salary\", \"bonus\", \"start_date\"]]\n",
    "'''.strip()\n",
    "\n",
    "employee_prompt = f'''\n",
    "    employee_suggest(Engineer at Construction company)\n",
    "'''\n",
    "\n",
    "result = get_completion(employee_prompt, system_prompt)\n",
    "print(result)"
   ]
  },
  {
   "cell_type": "code",
   "execution_count": 140,
   "id": "04c0f3e0-82fe-4dae-80d6-de36f78327e4",
   "metadata": {},
   "outputs": [
    {
     "name": "stdout",
     "output_type": "stream",
     "text": [
      "--Sending request to OpenAI endpoint--\n",
      "[\n",
      "  {\n",
      "    \"department\": \"Finance\",\n",
      "    \"role\": \"Financial Analyst\",\n",
      "    \"yearly_salary\": \"$70,000\",\n",
      "    \"bonus\": \"$5,000\",\n",
      "    \"start_date\": \"2022-01-01\"\n",
      "  },\n",
      "  {\n",
      "    \"department\": \"Data Analysis\",\n",
      "    \"role\": \"Data Analyst\",\n",
      "    \"yearly_salary\": \"$65,000\",\n",
      "    \"bonus\": \"$4,000\",\n",
      "    \"start_date\": \"2022-01-01\"\n",
      "  },\n",
      "  {\n",
      "    \"department\": \"Business Intelligence\",\n",
      "    \"role\": \"Business Analyst\",\n",
      "    \"yearly_salary\": \"$75,000\",\n",
      "    \"bonus\": \"$6,000\",\n",
      "    \"start_date\": \"2022-01-01\"\n",
      "  }\n",
      "]\n"
     ]
    }
   ],
   "source": [
    "system_prompt =f'''\n",
    "function_name: [employee_suggest]\n",
    "input: [\"text\"]\n",
    "rule: [I want you to act as an Employee suggestion expert, I will provide you with company information and employee partial title and you \n",
    "will suggest me 3 Employee roles information in JSON format with keys: [\"department\", \"role\", \"yearly_salary\", \"bonus\", \"start_date\"]]\n",
    "'''.strip()\n",
    "\n",
    "employee_prompt = f'''\n",
    "    employee_suggest(Analyst at Financial Services company)\n",
    "'''\n",
    "\n",
    "result = get_completion(employee_prompt, system_prompt)\n",
    "print(result)"
   ]
  },
  {
   "cell_type": "markdown",
   "id": "6cd2ee13-0fcb-4a04-b4b0-88c8649ea9b4",
   "metadata": {},
   "source": [
    "## Task 2"
   ]
  },
  {
   "cell_type": "code",
   "execution_count": 163,
   "id": "36b5d510-1507-4021-a190-2395d43e4f34",
   "metadata": {},
   "outputs": [
    {
     "name": "stdout",
     "output_type": "stream",
     "text": [
      "--Sending request to OpenAI endpoint--\n",
      "[\n",
      "  {\n",
      "    \"department\": \"G&A\",\n",
      "    \"role\": \"Finance Manager\",\n",
      "    \"yearly_salary\": \"$150,000\",\n",
      "    \"bonus\": \"$20,000\",\n",
      "    \"start_date\": \"01/01/2022\"\n",
      "  },\n",
      "  {\n",
      "    \"department\": \"R&D\",\n",
      "    \"role\": \"Civil Engineer\",\n",
      "    \"yearly_salary\": \"$120,000\",\n",
      "    \"bonus\": \"$15,000\",\n",
      "    \"start_date\": \"01/01/2022\"\n",
      "  },\n",
      "  {\n",
      "    \"department\": \"S&M\",\n",
      "    \"role\": \"Sales Representative\",\n",
      "    \"yearly_salary\": \"$100,000\",\n",
      "    \"bonus\": \"$10,000\",\n",
      "    \"start_date\": \"01/01/2022\"\n",
      "  }\n",
      "]\n"
     ]
    }
   ],
   "source": [
    "system_prompt =f'''\n",
    "function_name: [hiring_plan]\n",
    "input: [\"text\"]\n",
    "rule: [I want you to act as Hiring Plan Expert. You take Company information and return Employee information to hire. You \n",
    "will suggest me 3 Employee roles information in list of JSON format with keys: [\"department\", \"role\", \"yearly_salary\", \"bonus\", \"start_date\"]\n",
    "for available departments i.e. G&A, R&D, S&M, COGS.]\n",
    "'''.strip()\n",
    "\n",
    "\n",
    "employee_prompt = f'''\n",
    "    hiring_plan(Construction company, I can spend $1 million in 2 years)\n",
    "'''\n",
    "\n",
    "result = get_completion(employee_prompt, system_prompt)\n",
    "print(result)"
   ]
  },
  {
   "cell_type": "markdown",
   "id": "786ef241-f7ef-4bf4-a1e6-e57d1f296916",
   "metadata": {
    "jp-MarkdownHeadingCollapsed": true
   },
   "source": [
    "# Method 3: Pattern Based Generation"
   ]
  },
  {
   "cell_type": "markdown",
   "id": "4f873071-cbb7-425d-8871-bb8b3c2786a0",
   "metadata": {},
   "source": [
    "## Task 1"
   ]
  },
  {
   "cell_type": "code",
   "execution_count": 167,
   "id": "d35cada5-02d0-44c1-95fb-7d26446f18f6",
   "metadata": {},
   "outputs": [
    {
     "name": "stdout",
     "output_type": "stream",
     "text": [
      "--Sending request to OpenAI endpoint--\n",
      "[\n",
      "  {\n",
      "    \"department\": \"Risk Management\",\n",
      "    \"role\": \"Risk Analyst\",\n",
      "    \"yearly_salary\": \"$80,000\",\n",
      "    \"bonus\": \"$8,000\",\n",
      "    \"start_date\": \"2020-02-01\"\n",
      "  },\n",
      "  {\n",
      "    \"department\": \"Investment Banking\",\n",
      "    \"role\": \"Financial Analyst\",\n",
      "    \"yearly_salary\": \"$90,000\",\n",
      "    \"bonus\": \"$9,000\",\n",
      "    \"start_date\": \"2019-07-15\"\n",
      "  },\n",
      "  {\n",
      "    \"department\": \"Data Analytics\",\n",
      "    \"role\": \"Data Analyst\",\n",
      "    \"yearly_salary\": \"$85,000\",\n",
      "    \"bonus\": \"$7,500\",\n",
      "    \"start_date\": \"2018-11-30\"\n",
      "  }\n",
      "]\n"
     ]
    }
   ],
   "source": [
    "system_prompt ='''\n",
    "Input: Engineer at Tech company\n",
    "Output: \n",
    "[\n",
    "  {\n",
    "    \"department\": \"Software Development\",\n",
    "    \"role\": \"Software Engineer\",\n",
    "    \"yearly_salary\": \"$100,000\",\n",
    "    \"bonus\": \"$10,000\",\n",
    "    \"start_date\": \"2020-01-01\"\n",
    "  },\n",
    "  {\n",
    "    \"department\": \"Hardware Engineering\",\n",
    "    \"role\": \"Hardware Engineer\",\n",
    "    \"yearly_salary\": \"$110,000\",\n",
    "    \"bonus\": \"$12,000\",\n",
    "    \"start_date\": \"2019-05-15\"\n",
    "  },\n",
    "  {\n",
    "    \"department\": \"Data Science\",\n",
    "    \"role\": \"Data Engineer\",\n",
    "    \"yearly_salary\": \"$120,000\",\n",
    "    \"bonus\": \"$15,000\",\n",
    "    \"start_date\": \"2018-09-30\"\n",
    "  }\n",
    "]\n",
    "'''\n",
    "\n",
    "employee_prompt = f'''\n",
    "Input: Analyst at Financial Services Company\n",
    "Output:\n",
    "'''\n",
    "\n",
    "result = get_completion(employee_prompt, system_prompt)\n",
    "print(result)"
   ]
  },
  {
   "cell_type": "markdown",
   "id": "da0f9cba-1416-4a67-b399-2130ea0dd7fc",
   "metadata": {},
   "source": [
    "## Task 2"
   ]
  },
  {
   "cell_type": "code",
   "execution_count": 170,
   "id": "5835a256-3d01-4e42-a68d-8cae0090c568",
   "metadata": {},
   "outputs": [
    {
     "name": "stdout",
     "output_type": "stream",
     "text": [
      "--Sending request to OpenAI endpoint--\n",
      "[\n",
      "  {\n",
      "    \"department\": \"G&A\",\n",
      "    \"role\": \"Finance Manager\",\n",
      "    \"yearly_salary\": \"$150,000\",\n",
      "    \"bonus\": \"$20,000\",\n",
      "    \"start_date\": \"01/01/2022\"\n",
      "  },\n",
      "  {\n",
      "    \"department\": \"R&D\",\n",
      "    \"role\": \"Research Scientist\",\n",
      "    \"yearly_salary\": \"$120,000\",\n",
      "    \"bonus\": \"$15,000\",\n",
      "    \"start_date\": \"01/01/2022\"\n",
      "  },\n",
      "  {\n",
      "    \"department\": \"S&M\",\n",
      "    \"role\": \"Sales Representative\",\n",
      "    \"yearly_salary\": \"$100,000\",\n",
      "    \"bonus\": \"$10,000\",\n",
      "    \"start_date\": \"01/01/2022\"\n",
      "  },\n",
      "  {\n",
      "    \"department\": \"COGS\",\n",
      "    \"role\": \"Manufacturing Technician\",\n",
      "    \"yearly_salary\": \"$80,000\",\n",
      "    \"bonus\": \"$5,000\",\n",
      "    \"start_date\": \"01/01/2022\"\n",
      "  }\n",
      "]\n"
     ]
    }
   ],
   "source": [
    "system_prompt = '''\n",
    "Input: Construction Company\n",
    "Output:\n",
    "[\n",
    "  {\n",
    "    \"department\": \"G&A\",\n",
    "    \"role\": \"Finance Manager\",\n",
    "    \"yearly_salary\": \"$150,000\",\n",
    "    \"bonus\": \"$20,000\",\n",
    "    \"start_date\": \"01/01/2022\"\n",
    "  },\n",
    "  {\n",
    "    \"department\": \"R&D\",\n",
    "    \"role\": \"Civil Engineer\",\n",
    "    \"yearly_salary\": \"$120,000\",\n",
    "    \"bonus\": \"$15,000\",\n",
    "    \"start_date\": \"01/01/2022\"\n",
    "  },\n",
    "  {\n",
    "    \"department\": \"S&M\",\n",
    "    \"role\": \"Sales Representative\",\n",
    "    \"yearly_salary\": \"$100,000\",\n",
    "    \"bonus\": \"$10,000\",\n",
    "    \"start_date\": \"01/01/2022\"\n",
    "  }\n",
    "]\n",
    "'''\n",
    "\n",
    "employee_prompt = f'''\n",
    "Departments: : G&A, R&D, S&M, COGS\n",
    "Input: Pharmaceutical Company\n",
    "Output:\n",
    "'''\n",
    "\n",
    "result = get_completion(employee_prompt, system_prompt)\n",
    "print(result)"
   ]
  },
  {
   "cell_type": "code",
   "execution_count": 171,
   "id": "618c57b6-cfba-482c-af86-317ce7af280f",
   "metadata": {},
   "outputs": [
    {
     "name": "stdout",
     "output_type": "stream",
     "text": [
      "--Sending request to OpenAI endpoint--\n",
      "[\n",
      "  {\n",
      "    \"department\": \"G&A\",\n",
      "    \"role\": \"Finance Manager\",\n",
      "    \"yearly_salary\": \"$150,000\",\n",
      "    \"bonus\": \"$20,000\",\n",
      "    \"start_date\": \"01/01/2022\"\n",
      "  },\n",
      "  {\n",
      "    \"department\": \"R&D\",\n",
      "    \"role\": \"Software Engineer\",\n",
      "    \"yearly_salary\": \"$120,000\",\n",
      "    \"bonus\": \"$15,000\",\n",
      "    \"start_date\": \"01/01/2022\"\n",
      "  },\n",
      "  {\n",
      "    \"department\": \"S&M\",\n",
      "    \"role\": \"Marketing Specialist\",\n",
      "    \"yearly_salary\": \"$100,000\",\n",
      "    \"bonus\": \"$10,000\",\n",
      "    \"start_date\": \"01/01/2022\"\n",
      "  },\n",
      "  {\n",
      "    \"department\": \"COGS\",\n",
      "    \"role\": \"Supply Chain Analyst\",\n",
      "    \"yearly_salary\": \"$110,000\",\n",
      "    \"bonus\": \"$12,000\",\n",
      "    \"start_date\": \"01/01/2022\"\n",
      "  }\n",
      "]\n"
     ]
    }
   ],
   "source": [
    "system_prompt = '''\n",
    "Input: Construction Company\n",
    "Output:\n",
    "[\n",
    "  {\n",
    "    \"department\": \"G&A\",\n",
    "    \"role\": \"Finance Manager\",\n",
    "    \"yearly_salary\": \"$150,000\",\n",
    "    \"bonus\": \"$20,000\",\n",
    "    \"start_date\": \"01/01/2022\"\n",
    "  },\n",
    "  {\n",
    "    \"department\": \"R&D\",\n",
    "    \"role\": \"Civil Engineer\",\n",
    "    \"yearly_salary\": \"$120,000\",\n",
    "    \"bonus\": \"$15,000\",\n",
    "    \"start_date\": \"01/01/2022\"\n",
    "  },\n",
    "  {\n",
    "    \"department\": \"S&M\",\n",
    "    \"role\": \"Sales Representative\",\n",
    "    \"yearly_salary\": \"$100,000\",\n",
    "    \"bonus\": \"$10,000\",\n",
    "    \"start_date\": \"01/01/2022\"\n",
    "  }\n",
    "]\n",
    "'''\n",
    "\n",
    "employee_prompt = f'''\n",
    "Departments: : G&A, R&D, S&M, COGS\n",
    "Input: Tech Company\n",
    "Output:\n",
    "'''\n",
    "\n",
    "result = get_completion(employee_prompt, system_prompt)\n",
    "print(result)"
   ]
  }
 ],
 "metadata": {
  "kernelspec": {
   "display_name": "Python 3 (ipykernel)",
   "language": "python",
   "name": "python3"
  },
  "language_info": {
   "codemirror_mode": {
    "name": "ipython",
    "version": 3
   },
   "file_extension": ".py",
   "mimetype": "text/x-python",
   "name": "python",
   "nbconvert_exporter": "python",
   "pygments_lexer": "ipython3",
   "version": "3.9.13"
  }
 },
 "nbformat": 4,
 "nbformat_minor": 5
}
