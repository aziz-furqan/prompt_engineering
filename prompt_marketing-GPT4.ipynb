{
 "cells": [
  {
   "cell_type": "code",
   "execution_count": 3,
   "id": "f231a3d8-1db3-4e86-86ce-4799b4270dc0",
   "metadata": {},
   "outputs": [],
   "source": [
    "import openai\n",
    "import os\n",
    "from dotenv import load_dotenv\n",
    "\n",
    "from langchain.document_loaders import PyMuPDFLoader"
   ]
  },
  {
   "cell_type": "markdown",
   "id": "04292d9c-f9e7-42d4-853f-71d6433c4e08",
   "metadata": {
    "jp-MarkdownHeadingCollapsed": true
   },
   "source": [
    "#### OPEN AI Settings (GPT 4)"
   ]
  },
  {
   "cell_type": "code",
   "execution_count": 22,
   "id": "d87dfa59-6fc1-43d8-ae8a-1cc69083c272",
   "metadata": {},
   "outputs": [],
   "source": [
    "load_dotenv()\n",
    "openai.api_key = os.getenv(\"OPENAI_API_KEY\")"
   ]
  },
  {
   "cell_type": "code",
   "execution_count": 20,
   "id": "f03d5ece-8b4e-423d-9a51-2b4a28b3da3a",
   "metadata": {},
   "outputs": [],
   "source": [
    "def get_completion(\n",
    "        prompt: str,\n",
    "        system_prompt='',\n",
    "        prev_messages=[]\n",
    "    ):\n",
    "    messages = [{\"role\": \"system\", \"content\": system_prompt}]\n",
    "    messages.extend(prev_messages)\n",
    "    messages.append({\"role\": \"user\", \"content\": prompt.strip()})\n",
    "    # For CLI info\n",
    "    print(\"--Sending request to OpenAI endpoint--\")\n",
    "\n",
    "    try:\n",
    "        response = openai.ChatCompletion.create(\n",
    "            model='gpt-4',\n",
    "            messages=messages,\n",
    "            temperature=0,\n",
    "            top_p=1,\n",
    "            frequency_penalty=0,\n",
    "            presence_penalty=2,\n",
    "            max_tokens = 400\n",
    "        )\n",
    "    except (openai.error.APIError, openai.error.RateLimitError, openai.error.APIConnectionError) as e:\n",
    "        # Handle API errors and retry the request\n",
    "        print(\"API Error:\", e)\n",
    "        print(\"Retrying the request...\")\n",
    "        return get_completion(prompt, system_prompt, prev_messages)\n",
    "    \n",
    "    return response.choices[0].message[\"content\"]"
   ]
  },
  {
   "cell_type": "markdown",
   "id": "76a3aa43-411f-49e4-8772-fc341ba43827",
   "metadata": {
    "jp-MarkdownHeadingCollapsed": true
   },
   "source": [
    "#### Loading PDF"
   ]
  },
  {
   "cell_type": "code",
   "execution_count": 5,
   "id": "6d488d0c-509c-48d1-8374-5da8195d9885",
   "metadata": {},
   "outputs": [],
   "source": [
    "loader = PyMuPDFLoader('doc.pdf').load()\n",
    "all_text = []\n",
    "for i in range(len(loader)):\n",
    "    text = loader[i].page_content\n",
    "    all_text.append(text)\n",
    "\n",
    "all_text = ','.join(all_text)"
   ]
  },
  {
   "cell_type": "markdown",
   "id": "7178e6a0-7bff-4947-993c-373335a661c2",
   "metadata": {},
   "source": [
    "## Method 1: Passing all Context in Prompt"
   ]
  },
  {
   "cell_type": "code",
   "execution_count": 6,
   "id": "5afc82de-7ac5-436c-86f4-4d462b2fe961",
   "metadata": {},
   "outputs": [],
   "source": [
    "categories = ['Social Advertising', 'Search Advertising', 'Digital Display Advertising', 'Digital Video Advertising', \n",
    " 'Partner/Affiliate/Co-OP on Digital Channels', 'Digital Audio Advertising', 'Digital Out of Home', 'SEO',\n",
    " 'Email Marketing', 'Content and Messaging', 'Organic Social/Influencer', 'SMS/In App Messaging']"
   ]
  },
  {
   "cell_type": "code",
   "execution_count": 7,
   "id": "415ee718-8496-4de0-a718-c23d432719b7",
   "metadata": {},
   "outputs": [],
   "source": [
    "query = \"\"\"\n",
    "    Read the information and trends from the context and assign a marketing budget to the given categories.\n",
    "    OUTPUT FORMAT: ONLY JSON with categories as keys and assigned budget in percentages as values.\n",
    "    Also mention the reasons for assigning percentages to methods.\n",
    "\"\"\""
   ]
  },
  {
   "cell_type": "code",
   "execution_count": 8,
   "id": "6fce69d0-102b-4507-90b2-647b47dbafd4",
   "metadata": {},
   "outputs": [],
   "source": [
    "prompt = f\"\"\"\n",
    "Context: \"{all_text}\"\n",
    "Categories: \"{categories}\"\n",
    "{query}\n",
    "\"\"\""
   ]
  },
  {
   "cell_type": "code",
   "execution_count": null,
   "id": "b49063ee-c086-4065-b35f-f80c2d4b4636",
   "metadata": {},
   "outputs": [],
   "source": [
    "# this results in error as the text crosses the 8k context size of GPT-4\n",
    "\n",
    "result = get_completion(prompt)"
   ]
  },
  {
   "cell_type": "markdown",
   "id": "a562b8f7-6f14-415b-bb2e-3157c0bbbaf4",
   "metadata": {
    "jp-MarkdownHeadingCollapsed": true
   },
   "source": [
    "## Method 2: Without Context/Document"
   ]
  },
  {
   "cell_type": "code",
   "execution_count": 16,
   "id": "4429c884-fb39-47f9-b13b-87ae213ee652",
   "metadata": {},
   "outputs": [],
   "source": [
    "categories = ['Social Advertising', 'Search Advertising', 'Digital Display Advertising', 'Digital Video Advertising', \n",
    " 'Partner/Affiliate/Co-OP on Digital Channels', 'Digital Audio Advertising', 'Digital Out of Home', 'SEO',\n",
    " 'Email Marketing', 'Content and Messaging', 'Organic Social/Influencer', 'SMS/In App Messaging']"
   ]
  },
  {
   "cell_type": "code",
   "execution_count": 17,
   "id": "96c01032-8355-4cd4-83fb-38ce5a552cb1",
   "metadata": {},
   "outputs": [],
   "source": [
    "query = \"\"\"\n",
    "    Act as a Marketing Manager and devise a marketing campaign strategy. Assign a marketing budget to the given categories.\n",
    "    OUTPUT FORMAT: ONLY JSON with categories as keys and assigned budget in percentages as values.\n",
    "    Also mention the reasons for assigning percentages to methods.\n",
    "\"\"\""
   ]
  },
  {
   "cell_type": "code",
   "execution_count": 18,
   "id": "f0ae0446-b972-4124-81a3-f4e5adfe98b6",
   "metadata": {},
   "outputs": [],
   "source": [
    "prompt = f\"\"\"\n",
    "Categories: \"{categories}\"\n",
    "{query}\n",
    "\"\"\""
   ]
  },
  {
   "cell_type": "code",
   "execution_count": 19,
   "id": "08b9df3f-2f2f-4e79-bb84-819cc5d222e4",
   "metadata": {},
   "outputs": [
    {
     "name": "stdout",
     "output_type": "stream",
     "text": [
      "--Sending request to OpenAI endpoint--\n"
     ]
    }
   ],
   "source": [
    "result = get_completion(prompt)"
   ]
  },
  {
   "cell_type": "code",
   "execution_count": 20,
   "id": "a8da22dd-e470-4bed-98f6-4c418048f439",
   "metadata": {},
   "outputs": [
    {
     "name": "stdout",
     "output_type": "stream",
     "text": [
      "{\n",
      "    \"Social Advertising\": 20,\n",
      "    \"Search Advertising\": 15,\n",
      "    \"Digital Display Advertising\": 10,\n",
      "    \"Digital Video Advertising\": 15,\n",
      "    \"Partner/Affiliate/Co-OP on Digital Channels\": 5,\n",
      "    \"Digital Audio Advertising\": 5,\n",
      "    \"Digital Out of Home\": 5,\n",
      "    \"SEO\": 10,\n",
      "    \"Email Marketing\": 5,\n",
      "    \"Content and Messaging\": 5,\n",
      "    \"Organic Social/Influencer\": 3,\n",
      "    \"SMS/In App Messaging\": 2\n",
      "}\n",
      "\n",
      "Reasons for assigning percentages:\n",
      "\n",
      "1. \"Social Advertising\" - This is given the highest percentage because social media platforms have a large user base, making it an effective way to reach a wide audience.\n",
      "\n",
      "2. \"Search Advertising\" & \"Digital Video Advertising\" - These are assigned significant portions as they are highly effective in driving traffic and conversions. Search advertising helps in reaching people who are actively looking for products or services similar to yours, while video advertising can be more engaging and informative.\n",
      "\n",
      "3. \"Digital Display Advertising\" & \"SEO\" - They are also important aspects of digital marketing. While display ads help in brand awareness, SEO ensures your website ranks higher in search engine results.\n",
      "\n",
      "4. \"Partner/Affiliate/Co-OP on Digital Channels\", \"Digital Audio Advertising\", \"Digital Out of Home\", \"Email Marketing\", \"Content and Messaging\" - These methods are assigned lower percentages as they target specific audiences and may not have as broad a reach as other methods. However, they can still be very effective when used correctly.\n",
      "\n",
      "5. \"Organic Social/Influencer\" & \"SMS/In App Messaging\" - These methods are assigned the lowest percentages as they require more effort and time to see results. Organic social requires building a following over time, while SMS/in-app messaging depends heavily on having an existing customer base.\n"
     ]
    }
   ],
   "source": [
    "print(result)"
   ]
  },
  {
   "cell_type": "markdown",
   "id": "a96f29f5-746b-4e1c-84e6-c04bb9edfb1b",
   "metadata": {
    "jp-MarkdownHeadingCollapsed": true
   },
   "source": [
    "## Method 3: Getting context from Similarity Search"
   ]
  },
  {
   "cell_type": "code",
   "execution_count": 21,
   "id": "1c025ffb-4be6-49d2-af01-d7852e0e544e",
   "metadata": {},
   "outputs": [],
   "source": [
    "from langchain.document_loaders import PyMuPDFLoader\n",
    "from langchain.embeddings.openai import OpenAIEmbeddings\n",
    "from langchain.text_splitter import RecursiveCharacterTextSplitter\n",
    "from langchain.vectorstores import Chroma\n",
    "\n",
    "# Load the document, split it into chunks, embed each chunk and load it into the vector store.\n",
    "raw_documents = PyMuPDFLoader('doc.pdf').load()\n",
    "text_splitter = RecursiveCharacterTextSplitter(chunk_size=500, chunk_overlap=50)\n",
    "documents = text_splitter.split_documents(raw_documents)\n",
    "db = Chroma.from_documents(documents, OpenAIEmbeddings())"
   ]
  },
  {
   "cell_type": "code",
   "execution_count": 27,
   "id": "d96b5827-0961-45e5-b78e-a0147adfd0dc",
   "metadata": {},
   "outputs": [],
   "source": [
    "categories = ['Social Advertising', 'Search Advertising', 'Digital Display Advertising', 'Digital Video Advertising', \n",
    " 'Partner/Affiliate/Co-OP on Digital Channels', 'Digital Audio Advertising', 'Digital Out of Home', 'SEO',\n",
    " 'Email Marketing', 'Content and Messaging', 'Organic Social/Influencer', 'SMS/In App Messaging']"
   ]
  },
  {
   "cell_type": "code",
   "execution_count": 23,
   "id": "ee2d6798-390d-42cc-9bb5-fe2d3d8bec71",
   "metadata": {},
   "outputs": [],
   "source": [
    "context = []\n",
    "\n",
    "for i in categories:\n",
    "    query = f\"How much should be spent on {i} for marketing campaign?\"\n",
    "    docs = db.similarity_search(query)\n",
    "    context.append(docs[0].page_content)\n",
    "    context.append(docs[1].page_content)\n",
    "    # print(f\"\\n* {i} *\")\n",
    "    # print(docs[0].page_content)\n",
    "    # print(\"\\n------------------------\\n\")\n"
   ]
  },
  {
   "cell_type": "code",
   "execution_count": 24,
   "id": "f43d0e2f-0241-42bb-bbe5-3c0c8332ebfe",
   "metadata": {},
   "outputs": [
    {
     "name": "stdout",
     "output_type": "stream",
     "text": [
      "24\n"
     ]
    }
   ],
   "source": [
    "print(len(context))"
   ]
  },
  {
   "cell_type": "code",
   "execution_count": 25,
   "id": "c66bed69-459c-4a21-b863-a7002b3e4596",
   "metadata": {},
   "outputs": [],
   "source": [
    "text_context = ','.join(context)"
   ]
  },
  {
   "cell_type": "code",
   "execution_count": 27,
   "id": "a9d311dd-66a0-47be-bbd9-7c458d341923",
   "metadata": {},
   "outputs": [],
   "source": [
    "query = \"\"\"\n",
    "    Read the information and trends from the context and assign a marketing budget to the given categories.\n",
    "    OUTPUT FORMAT: ONLY JSON with categories as keys and assigned budget in percentages as values.\n",
    "    Also mention the reasons for assigning percentages to methods.\n",
    "\"\"\""
   ]
  },
  {
   "cell_type": "code",
   "execution_count": 28,
   "id": "50395cb5-0ee1-4ad6-8f87-c64bf7cf1036",
   "metadata": {},
   "outputs": [],
   "source": [
    "prompt = f\"\"\"\n",
    "Context: \"{text_context}\"\n",
    "Categories: \"{categories}\"\n",
    "{query}\n",
    "\"\"\""
   ]
  },
  {
   "cell_type": "code",
   "execution_count": 29,
   "id": "ebbfe4f2-3168-4be9-85ba-01f8ef8b0973",
   "metadata": {},
   "outputs": [
    {
     "name": "stdout",
     "output_type": "stream",
     "text": [
      "--Sending request to OpenAI endpoint--\n"
     ]
    }
   ],
   "source": [
    "result = get_completion(prompt)"
   ]
  },
  {
   "cell_type": "code",
   "execution_count": 151,
   "id": "644625f8-8354-4a02-9b9c-9aef2d630c29",
   "metadata": {},
   "outputs": [
    {
     "name": "stdout",
     "output_type": "stream",
     "text": [
      "{\n",
      "  \"Social Advertising\": 15,\n",
      "  \"Search Advertising\": 10,\n",
      "  \"Digital Display Advertising\": 8,\n",
      "  \"Digital Video Advertising\": 12,\n",
      "  \"Partner/Affiliate/Co-OP on Digital Channels\": 5,\n",
      "  \"Digital Audio Advertising\": 3,\n",
      "  \"Digital Out of Home\": 2,\n",
      "  \"SEO\": 20,\n",
      "  \"Email Marketing\": 10,\n",
      "  \"Content and Messaging\": 7,\n",
      "  \"Organic Social/Influencer\": 8,\n",
      "  \"SMS/In App Messaging\": 0\n",
      "}\n",
      "\n",
      "Reasons for assigning percentages:\n",
      "1. Social Advertising: Given the popularity and effectiveness of paid social media content, allocating a higher budget percentage can help reach a wider audience and generate strong returns.\n",
      "2. Search Advertising: With 29% of marketers using search-optimized websites and blogs to attract leads, investing in search advertising can complement SEO efforts and drive targeted traffic.\n",
      "3. Digital Display Advertising: Allocating a moderate budget percentage to digital display advertising allows for brand visibility and reaching audiences across various online platforms.\n",
      "4. Digital Video Advertising: As brands have increased their investment in video marketing and it offers high ROI, assigning a significant budget percentage can capitalize on this trend.\n",
      "5. Partner/Affiliate/Co-OP on Digital Channels: While not as prominent as other methods, allocating a small budget percentage to partner or affiliate marketing can leverage existing networks and collaborations.\n",
      "6. Digital Audio Advertising: Although not as widely used, dedicating a small budget percentage to digital audio advertising can tap into the growing popularity of podcasts and audio content consumption.\n",
      "7. Digital Out of Home: Assigning a minimal budget percentage to digital out-of-home advertising acknowledges its potential impact but recognizes that other channels may yield better results.\n",
      "8. SEO: Given its low financial investment and high success rate, allocating a substantial budget percentage to SEO can significantly increase web traffic and inbound leads.\n",
      "9. Email Marketing: With a high ROI of\n"
     ]
    }
   ],
   "source": [
    "print(result)"
   ]
  },
  {
   "cell_type": "markdown",
   "id": "e3147fb9-3067-4094-9195-a8c437431d6e",
   "metadata": {
    "jp-MarkdownHeadingCollapsed": true
   },
   "source": [
    "## Method 4: Passing the Summarized Report as Context"
   ]
  },
  {
   "cell_type": "code",
   "execution_count": 5,
   "id": "951deb46-6f34-48b2-a4de-40a2b1f448bd",
   "metadata": {},
   "outputs": [],
   "source": [
    "loader = PyMuPDFLoader('doc.pdf').load()\n",
    "all_text = []\n",
    "for i in range(len(loader)):\n",
    "    text = loader[i].page_content\n",
    "    all_text.append(text)\n",
    "\n",
    "all_text = ','.join(all_text)"
   ]
  },
  {
   "cell_type": "code",
   "execution_count": 32,
   "id": "8789207e-da1c-4e22-8746-00ff2a26b187",
   "metadata": {},
   "outputs": [],
   "source": [
    "# convert all the text in reports to chunks to fit in the 8k context window of GPT-4\n",
    "\n",
    "def chunk_string(input_string, chunk_size):\n",
    "    chunks = []\n",
    "    for i in range(0, len(input_string), chunk_size):\n",
    "        chunk = input_string[i:i + chunk_size]\n",
    "        chunks.append(chunk)\n",
    "    return chunks"
   ]
  },
  {
   "cell_type": "code",
   "execution_count": 24,
   "id": "1e4a6120-d1c8-40d4-8da3-99359bcafb2b",
   "metadata": {},
   "outputs": [
    {
     "name": "stdout",
     "output_type": "stream",
     "text": [
      "3\n"
     ]
    }
   ],
   "source": [
    "chunks = chunk_string(all_text, 25000)\n",
    "print(len(chunks))"
   ]
  },
  {
   "cell_type": "code",
   "execution_count": 40,
   "id": "a18e0ecf-c94a-4b36-a1b6-41db5eb7efd6",
   "metadata": {},
   "outputs": [
    {
     "name": "stdout",
     "output_type": "stream",
     "text": [
      "--Sending request to OpenAI endpoint--\n",
      "--Sending request to OpenAI endpoint--\n",
      "API Error: Rate limit reached for 10KTPM-200RPM in organization org-mVT5G0ykVqlNzVawBd0W4h14 on tokens per min. Limit: 10000 / min. Please try again in 6ms. Contact us through our help center at help.openai.com if you continue to have issues.\n",
      "Retrying the request...\n",
      "--Sending request to OpenAI endpoint--\n",
      "API Error: Rate limit reached for 10KTPM-200RPM in organization org-mVT5G0ykVqlNzVawBd0W4h14 on tokens per min. Limit: 10000 / min. Please try again in 6ms. Contact us through our help center at help.openai.com if you continue to have issues.\n",
      "Retrying the request...\n",
      "--Sending request to OpenAI endpoint--\n",
      "API Error: Rate limit reached for 10KTPM-200RPM in organization org-mVT5G0ykVqlNzVawBd0W4h14 on tokens per min. Limit: 10000 / min. Please try again in 6ms. Contact us through our help center at help.openai.com if you continue to have issues.\n",
      "Retrying the request...\n",
      "--Sending request to OpenAI endpoint--\n",
      "API Error: Rate limit reached for 10KTPM-200RPM in organization org-mVT5G0ykVqlNzVawBd0W4h14 on tokens per min. Limit: 10000 / min. Please try again in 6ms. Contact us through our help center at help.openai.com if you continue to have issues.\n",
      "Retrying the request...\n",
      "--Sending request to OpenAI endpoint--\n",
      "API Error: Rate limit reached for 10KTPM-200RPM in organization org-mVT5G0ykVqlNzVawBd0W4h14 on tokens per min. Limit: 10000 / min. Please try again in 6ms. Contact us through our help center at help.openai.com if you continue to have issues.\n",
      "Retrying the request...\n",
      "--Sending request to OpenAI endpoint--\n",
      "API Error: Rate limit reached for 10KTPM-200RPM in organization org-mVT5G0ykVqlNzVawBd0W4h14 on tokens per min. Limit: 10000 / min. Please try again in 6ms. Contact us through our help center at help.openai.com if you continue to have issues.\n",
      "Retrying the request...\n",
      "--Sending request to OpenAI endpoint--\n",
      "API Error: Rate limit reached for 10KTPM-200RPM in organization org-mVT5G0ykVqlNzVawBd0W4h14 on tokens per min. Limit: 10000 / min. Please try again in 6ms. Contact us through our help center at help.openai.com if you continue to have issues.\n",
      "Retrying the request...\n",
      "--Sending request to OpenAI endpoint--\n",
      "API Error: Rate limit reached for 10KTPM-200RPM in organization org-mVT5G0ykVqlNzVawBd0W4h14 on tokens per min. Limit: 10000 / min. Please try again in 6ms. Contact us through our help center at help.openai.com if you continue to have issues.\n",
      "Retrying the request...\n",
      "--Sending request to OpenAI endpoint--\n",
      "API Error: Rate limit reached for 10KTPM-200RPM in organization org-mVT5G0ykVqlNzVawBd0W4h14 on tokens per min. Limit: 10000 / min. Please try again in 6ms. Contact us through our help center at help.openai.com if you continue to have issues.\n",
      "Retrying the request...\n",
      "--Sending request to OpenAI endpoint--\n",
      "API Error: Rate limit reached for 10KTPM-200RPM in organization org-mVT5G0ykVqlNzVawBd0W4h14 on tokens per min. Limit: 10000 / min. Please try again in 6ms. Contact us through our help center at help.openai.com if you continue to have issues.\n",
      "Retrying the request...\n",
      "--Sending request to OpenAI endpoint--\n",
      "API Error: Rate limit reached for 10KTPM-200RPM in organization org-mVT5G0ykVqlNzVawBd0W4h14 on tokens per min. Limit: 10000 / min. Please try again in 6ms. Contact us through our help center at help.openai.com if you continue to have issues.\n",
      "Retrying the request...\n",
      "--Sending request to OpenAI endpoint--\n",
      "API Error: Rate limit reached for 10KTPM-200RPM in organization org-mVT5G0ykVqlNzVawBd0W4h14 on tokens per min. Limit: 10000 / min. Please try again in 6ms. Contact us through our help center at help.openai.com if you continue to have issues.\n",
      "Retrying the request...\n",
      "--Sending request to OpenAI endpoint--\n",
      "API Error: Rate limit reached for 10KTPM-200RPM in organization org-mVT5G0ykVqlNzVawBd0W4h14 on tokens per min. Limit: 10000 / min. Please try again in 6ms. Contact us through our help center at help.openai.com if you continue to have issues.\n",
      "Retrying the request...\n",
      "--Sending request to OpenAI endpoint--\n",
      "API Error: Rate limit reached for 10KTPM-200RPM in organization org-mVT5G0ykVqlNzVawBd0W4h14 on tokens per min. Limit: 10000 / min. Please try again in 6ms. Contact us through our help center at help.openai.com if you continue to have issues.\n",
      "Retrying the request...\n",
      "--Sending request to OpenAI endpoint--\n",
      "API Error: Rate limit reached for 10KTPM-200RPM in organization org-mVT5G0ykVqlNzVawBd0W4h14 on tokens per min. Limit: 10000 / min. Please try again in 6ms. Contact us through our help center at help.openai.com if you continue to have issues.\n",
      "Retrying the request...\n",
      "--Sending request to OpenAI endpoint--\n",
      "API Error: Rate limit reached for 10KTPM-200RPM in organization org-mVT5G0ykVqlNzVawBd0W4h14 on tokens per min. Limit: 10000 / min. Please try again in 6ms. Contact us through our help center at help.openai.com if you continue to have issues.\n",
      "Retrying the request...\n",
      "--Sending request to OpenAI endpoint--\n",
      "API Error: Rate limit reached for 10KTPM-200RPM in organization org-mVT5G0ykVqlNzVawBd0W4h14 on tokens per min. Limit: 10000 / min. Please try again in 6ms. Contact us through our help center at help.openai.com if you continue to have issues.\n",
      "Retrying the request...\n",
      "--Sending request to OpenAI endpoint--\n",
      "API Error: Rate limit reached for 10KTPM-200RPM in organization org-mVT5G0ykVqlNzVawBd0W4h14 on tokens per min. Limit: 10000 / min. Please try again in 6ms. Contact us through our help center at help.openai.com if you continue to have issues.\n",
      "Retrying the request...\n",
      "--Sending request to OpenAI endpoint--\n",
      "API Error: Rate limit reached for 10KTPM-200RPM in organization org-mVT5G0ykVqlNzVawBd0W4h14 on tokens per min. Limit: 10000 / min. Please try again in 6ms. Contact us through our help center at help.openai.com if you continue to have issues.\n",
      "Retrying the request...\n",
      "--Sending request to OpenAI endpoint--\n",
      "API Error: Rate limit reached for 10KTPM-200RPM in organization org-mVT5G0ykVqlNzVawBd0W4h14 on tokens per min. Limit: 10000 / min. Please try again in 6ms. Contact us through our help center at help.openai.com if you continue to have issues.\n",
      "Retrying the request...\n",
      "--Sending request to OpenAI endpoint--\n",
      "API Error: Rate limit reached for 10KTPM-200RPM in organization org-mVT5G0ykVqlNzVawBd0W4h14 on tokens per min. Limit: 10000 / min. Please try again in 6ms. Contact us through our help center at help.openai.com if you continue to have issues.\n",
      "Retrying the request...\n",
      "--Sending request to OpenAI endpoint--\n",
      "--Sending request to OpenAI endpoint--\n"
     ]
    }
   ],
   "source": [
    "# genrating summaries of chunks with the help of GPT-4\n",
    "summaries = []\n",
    "for chunk in chunks:\n",
    "    summary_prompt = f\"\"\"\n",
    "        Summarize the given text for assigning marketing budgets to these categories: {categories}\n",
    "        text: {chunk}\n",
    "        \"\"\"\n",
    "    summaries.append(get_completion(summary_prompt))\n",
    "    "
   ]
  },
  {
   "cell_type": "code",
   "execution_count": 41,
   "id": "cbd265d4-d012-4b3f-9a0f-375831d78d0d",
   "metadata": {},
   "outputs": [
    {
     "data": {
      "text/plain": [
       "[\"The 2023 marketing trends report highlights the increasing importance of AI and automation in marketing, with tools such as HubSpot's new AI Tools being introduced. The tension between short-term growth and long-term brand investment is also noted, with a balanced approach recommended. Other key trends include the use of AI for content creation and video production, data privacy concerns, and the continued success of video content for engagement. Marketers are experimenting with new media formats and optimizing existing assets to meet their goals. In terms of budget allocation, marketers expect to continue investing in channels that generate strong returns even during economic downturns. These include content marketing (blogs and SEO), virtual events, SMS marketing, email marketing, and organic social media.\",\n",
       " 'The text discusses the current state of marketing trends and how to allocate budgets across various categories. It suggests that despite a decline in media costs, ad spend has fallen across all channels due to economic downturns. Marketers are advised to expect budget cuts in paid social media content, print ads, physical events, email marketing, and physical ads.\\n\\nHowever, digital content is on the rise as brands look for where their audience engages most. Releasing interesting or useful content targeting upper funnel consumers can increase brand awareness and trust. Brands should resist switching promotional spend from brand awareness to activation, especially in B2B businesses with longer sales funnels.\\n\\nBrands forced to cut marketing investment should focus on brand visibility by maximizing content marketing and SEO tactics. They should prioritize customer relationships via owned digital properties (e.g., blogs) and social platforms. PR and co-marketing partnerships could represent another way to run marketing activities at no extra cost.\\n\\nIn terms of specific categories, short-form video content, particularly on TikTok, is currently trending. However, each platform requires different strategies, so tailoring content for each social platform is recommended. Influencer marketing is also increasingly important, with smaller creators often providing more reasonable business costs and access to niche communities.\\n\\nEmail marketing remains an effective strategy, but it needs to be data-driven and accessible. Hyper-personalization can help engage subscribers, while AI can assist in brainstorming subject lines and email copy, predicting subscriber behavior, and automating A/B testing. \\n\\nFinally, freelancers are becoming more appealing during recessions, offering competitive advantages and scalability for content creation efforts.',\n",
       " 'The text discusses the importance of email marketing and personalization, using AI for planning and development, and conducting sentiment polls with audiences. It also highlights the rise in video content, especially on YouTube, as a significant trend for business growth. The use of AI and automation is emphasized to streamline tasks and foster creativity within marketing teams. SEOs and marketers are encouraged to create unique and interactive experiences to compete with AI. Lastly, it mentions that data-driven decisions and smarter tools have made marketing teams more agile, and they will continue to expand their efforts in short-form video and AI automation.']"
      ]
     },
     "execution_count": 41,
     "metadata": {},
     "output_type": "execute_result"
    }
   ],
   "source": [
    "summaries"
   ]
  },
  {
   "cell_type": "code",
   "execution_count": 42,
   "id": "f4748b61-6aa6-4c43-b191-9eb9130d5a40",
   "metadata": {},
   "outputs": [
    {
     "name": "stdout",
     "output_type": "stream",
     "text": [
      "The 2023 marketing trends report highlights the increasing importance of AI and automation in marketing, with tools such as HubSpot's new AI Tools being introduced. The tension between short-term growth and long-term brand investment is also noted, with a balanced approach recommended. Other key trends include the use of AI for content creation and video production, data privacy concerns, and the continued success of video content for engagement. Marketers are experimenting with new media formats and optimizing existing assets to meet their goals. In terms of budget allocation, marketers expect to continue investing in channels that generate strong returns even during economic downturns. These include content marketing (blogs and SEO), virtual events, SMS marketing, email marketing, and organic social media.,The text discusses the current state of marketing trends and how to allocate budgets across various categories. It suggests that despite a decline in media costs, ad spend has fallen across all channels due to economic downturns. Marketers are advised to expect budget cuts in paid social media content, print ads, physical events, email marketing, and physical ads.\n",
      "\n",
      "However, digital content is on the rise as brands look for where their audience engages most. Releasing interesting or useful content targeting upper funnel consumers can increase brand awareness and trust. Brands should resist switching promotional spend from brand awareness to activation, especially in B2B businesses with longer sales funnels.\n",
      "\n",
      "Brands forced to cut marketing investment should focus on brand visibility by maximizing content marketing and SEO tactics. They should prioritize customer relationships via owned digital properties (e.g., blogs) and social platforms. PR and co-marketing partnerships could represent another way to run marketing activities at no extra cost.\n",
      "\n",
      "In terms of specific categories, short-form video content, particularly on TikTok, is currently trending. However, each platform requires different strategies, so tailoring content for each social platform is recommended. Influencer marketing is also increasingly important, with smaller creators often providing more reasonable business costs and access to niche communities.\n",
      "\n",
      "Email marketing remains an effective strategy, but it needs to be data-driven and accessible. Hyper-personalization can help engage subscribers, while AI can assist in brainstorming subject lines and email copy, predicting subscriber behavior, and automating A/B testing. \n",
      "\n",
      "Finally, freelancers are becoming more appealing during recessions, offering competitive advantages and scalability for content creation efforts.,The text discusses the importance of email marketing and personalization, using AI for planning and development, and conducting sentiment polls with audiences. It also highlights the rise in video content, especially on YouTube, as a significant trend for business growth. The use of AI and automation is emphasized to streamline tasks and foster creativity within marketing teams. SEOs and marketers are encouraged to create unique and interactive experiences to compete with AI. Lastly, it mentions that data-driven decisions and smarter tools have made marketing teams more agile, and they will continue to expand their efforts in short-form video and AI automation.\n",
      "3347\n"
     ]
    }
   ],
   "source": [
    "total_summary = ','.join(summaries)\n",
    "print(total_summary)\n",
    "print(len(total_summary))"
   ]
  },
  {
   "cell_type": "code",
   "execution_count": 45,
   "id": "01a24826-5301-49d6-8dd2-8cbb2d0dafca",
   "metadata": {},
   "outputs": [],
   "source": [
    "categories = ['Social Advertising', 'Search Advertising', 'Digital Display Advertising', 'Digital Video Advertising', \n",
    " 'Partner/Affiliate/Co-OP on Digital Channels', 'Digital Audio Advertising', 'Digital Out of Home', 'SEO',\n",
    " 'Email Marketing', 'Content and Messaging', 'Organic Social/Influencer', 'SMS/In App Messaging']"
   ]
  },
  {
   "cell_type": "code",
   "execution_count": 44,
   "id": "e0c1fd91-4ef9-4eba-a3f0-09ac561bc5bf",
   "metadata": {},
   "outputs": [],
   "source": [
    "query = \"\"\"\n",
    "    Read the information and trends from the context and assign a marketing budget to the given categories.\n",
    "    OUTPUT FORMAT: ONLY JSON with categories as keys and assigned budget in percentages as values.\n",
    "    Also mention the reasons for assigning percentages to methods.\n",
    "\"\"\""
   ]
  },
  {
   "cell_type": "code",
   "execution_count": 46,
   "id": "dd94af37-9580-486f-8203-2876e2fa29ef",
   "metadata": {},
   "outputs": [],
   "source": [
    "prompt = f\"\"\"\n",
    "Context: \"{total_summary}\"\n",
    "Categories: \"{categories}\"\n",
    "{query}\n",
    "\"\"\""
   ]
  },
  {
   "cell_type": "code",
   "execution_count": 47,
   "id": "356ddd2e-eee7-4efa-8675-a35fe4af690b",
   "metadata": {},
   "outputs": [
    {
     "name": "stdout",
     "output_type": "stream",
     "text": [
      "--Sending request to OpenAI endpoint--\n"
     ]
    }
   ],
   "source": [
    "result = get_completion(prompt)"
   ]
  },
  {
   "cell_type": "code",
   "execution_count": 48,
   "id": "a16ce166-1874-4e29-80ef-ed77d127fa32",
   "metadata": {},
   "outputs": [
    {
     "name": "stdout",
     "output_type": "stream",
     "text": [
      "{\n",
      "    \"Social Advertising\": 10,\n",
      "    \"Search Advertising\": 15,\n",
      "    \"Digital Display Advertising\": 5,\n",
      "    \"Digital Video Advertising\": 20,\n",
      "    \"Partner/Affiliate/Co-OP on Digital Channels\": 5,\n",
      "    \"Digital Audio Advertising\": 3,\n",
      "    \"Digital Out of Home\": 2,\n",
      "    \"SEO\": 15,\n",
      "    \"Email Marketing\": 10,\n",
      "    \"Content and Messaging\": 8,\n",
      "    \"Organic Social/Influencer\": 5,\n",
      "    \"SMS/In App Messaging\": 2\n",
      "}\n",
      "\n",
      "Reasons:\n",
      "\n",
      "\"Social Advertising\": Despite budget cuts in paid social media content, it is still important to maintain a presence. Brands should focus on organic growth but also allocate some budget for paid promotions.\n",
      "\n",
      "\"Search Advertising\": SEO tactics are recommended for brands cutting marketing investment. This includes both optimizing existing assets and creating new ones.\n",
      "\n",
      "\"Digital Display Advertising\": With the decline in ad spend across all channels, this category receives a lower percentage.\n",
      "\n",
      "\"Digital Video Advertising\": The continued success of video content for engagement and the rise of short-form video content on platforms like TikTok make this an important area for investment.\n",
      "\n",
      "\"Partner/Affiliate/Co-OP on Digital Channels\": PR and co-marketing partnerships could represent another way to run marketing activities at no extra cost, hence a smaller allocation.\n",
      "\n",
      "\"Digital Audio Advertising\": Not specifically mentioned in the context, so a smaller portion of the budget is allocated here.\n",
      "\n",
      "\"Digital Out of Home\": Physical ads have seen budget cuts due to economic downturns, so digital out-of-home advertising would likely see similar reductions.\n",
      "\n",
      "\"SEO\": As noted above, SEO is crucial for maintaining brand visibility during times of reduced marketing investment.\n",
      "\n",
      "\"Email Marketing\": Despite expected budget cuts, email marketing remains effective when data-driven and personalized. AI can assist with these efforts.\n",
      "\n",
      "\"Content and Messaging\": Content marketing (including blogs) is expected to generate strong returns even during economic downturns\n"
     ]
    }
   ],
   "source": [
    "print(result)"
   ]
  }
 ],
 "metadata": {
  "kernelspec": {
   "display_name": "Python 3 (ipykernel)",
   "language": "python",
   "name": "python3"
  },
  "language_info": {
   "codemirror_mode": {
    "name": "ipython",
    "version": 3
   },
   "file_extension": ".py",
   "mimetype": "text/x-python",
   "name": "python",
   "nbconvert_exporter": "python",
   "pygments_lexer": "ipython3",
   "version": "3.10.0"
  }
 },
 "nbformat": 4,
 "nbformat_minor": 5
}
