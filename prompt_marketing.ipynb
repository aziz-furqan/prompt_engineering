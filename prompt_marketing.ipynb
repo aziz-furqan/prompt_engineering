{
 "cells": [
  {
   "cell_type": "code",
   "execution_count": 55,
   "id": "f231a3d8-1db3-4e86-86ce-4799b4270dc0",
   "metadata": {},
   "outputs": [],
   "source": [
    "import openai\n",
    "import os\n",
    "from dotenv import load_dotenv\n",
    "\n",
    "from langchain.document_loaders import PyMuPDFLoader"
   ]
  },
  {
   "cell_type": "markdown",
   "id": "04292d9c-f9e7-42d4-853f-71d6433c4e08",
   "metadata": {},
   "source": [
    "#### OPEN AI Settings"
   ]
  },
  {
   "cell_type": "code",
   "execution_count": 56,
   "id": "d87dfa59-6fc1-43d8-ae8a-1cc69083c272",
   "metadata": {},
   "outputs": [],
   "source": [
    "load_dotenv()\n",
    "openai.api_key = os.getenv(\"OPENAI_API_KEY\")"
   ]
  },
  {
   "cell_type": "code",
   "execution_count": 102,
   "id": "f03d5ece-8b4e-423d-9a51-2b4a28b3da3a",
   "metadata": {},
   "outputs": [],
   "source": [
    "def get_completion(\n",
    "        prompt: str,\n",
    "        system_prompt='',\n",
    "        prev_messages=[]\n",
    "    ):\n",
    "    messages = [{\"role\": \"system\", \"content\": system_prompt}]\n",
    "    messages.extend(prev_messages)\n",
    "    messages.append({\"role\": \"user\", \"content\": prompt.strip()})\n",
    "    # For CLI info\n",
    "    print(\"--Sending request to OpenAI endpoint--\")\n",
    "\n",
    "    try:\n",
    "        response = openai.ChatCompletion.create(\n",
    "            model='gpt-3.5-turbo-16k',\n",
    "            messages=messages,\n",
    "            temperature=0,\n",
    "            top_p=1,\n",
    "            frequency_penalty=0,\n",
    "            presence_penalty=2,\n",
    "            max_tokens = 400\n",
    "        )\n",
    "    except (openai.error.APIError, openai.error.RateLimitError, openai.error.APIConnectionError) as e:\n",
    "        # Handle API errors and retry the request\n",
    "        print(\"API Error:\", e)\n",
    "        print(\"Retrying the request...\")\n",
    "        return get_completion(prompt, system_prompt, prev_messages)\n",
    "    \n",
    "    return response.choices[0].message[\"content\"]"
   ]
  },
  {
   "cell_type": "markdown",
   "id": "76a3aa43-411f-49e4-8772-fc341ba43827",
   "metadata": {},
   "source": [
    "#### Loading PDF"
   ]
  },
  {
   "cell_type": "code",
   "execution_count": 44,
   "id": "6d488d0c-509c-48d1-8374-5da8195d9885",
   "metadata": {},
   "outputs": [],
   "source": [
    "loader = PyMuPDFLoader('doc.pdf').load()\n",
    "all_text = []\n",
    "for i in range(len(loader)):\n",
    "    text = loader[i].page_content\n",
    "    all_text.append(text)\n",
    "\n",
    "all_text = ','.join(all_text)"
   ]
  },
  {
   "cell_type": "markdown",
   "id": "7178e6a0-7bff-4947-993c-373335a661c2",
   "metadata": {},
   "source": [
    "## Method 1: Passing all Context in Prompt"
   ]
  },
  {
   "cell_type": "code",
   "execution_count": 58,
   "id": "5afc82de-7ac5-436c-86f4-4d462b2fe961",
   "metadata": {},
   "outputs": [],
   "source": [
    "categories = ['Social Advertising', 'Search Advertising', 'Digital Display Advertising', 'Digital Video Advertising', \n",
    " 'Partner/Affiliate/Co-OP on Digital Channels', 'Digital Audio Advertising', 'Digital Out of Home', 'SEO',\n",
    " 'Email Marketing', 'Content and Messaging', 'Organic Social/Influencer', 'SMS/In App Messaging']"
   ]
  },
  {
   "cell_type": "code",
   "execution_count": 107,
   "id": "415ee718-8496-4de0-a718-c23d432719b7",
   "metadata": {},
   "outputs": [],
   "source": [
    "query = \"\"\"\n",
    "    Read the information and trends from the context and assign a marketing budget to the given categories.\n",
    "    OUTPUT FORMAT: ONLY JSON with categories as keys and assigned budget in percentages as values.\n",
    "    Also mention the reasons for assigning percentages to methods.\n",
    "\"\"\""
   ]
  },
  {
   "cell_type": "code",
   "execution_count": 111,
   "id": "6fce69d0-102b-4507-90b2-647b47dbafd4",
   "metadata": {},
   "outputs": [],
   "source": [
    "prompt = f\"\"\"\n",
    "Context: \"{all_text}\"\n",
    "Categories: \"{categories}\"\n",
    "{query}\n",
    "\"\"\""
   ]
  },
  {
   "cell_type": "code",
   "execution_count": 109,
   "id": "b49063ee-c086-4065-b35f-f80c2d4b4636",
   "metadata": {},
   "outputs": [
    {
     "name": "stdout",
     "output_type": "stream",
     "text": [
      "--Sending request to OpenAI endpoint--\n"
     ]
    }
   ],
   "source": [
    "result = get_completion(prompt)"
   ]
  },
  {
   "cell_type": "code",
   "execution_count": 110,
   "id": "a5cba9ae-b311-42be-aab6-09d285dffd1e",
   "metadata": {},
   "outputs": [
    {
     "name": "stdout",
     "output_type": "stream",
     "text": [
      "{\n",
      "  \"Social Advertising\": 20,\n",
      "  \"Search Advertising\": 15,\n",
      "  \"Digital Display Advertising\": 10,\n",
      "  \"Digital Video Advertising\": 15,\n",
      "  \"Partner/Affiliate/Co-OP on Digital Channels\": 5,\n",
      "  \"Digital Audio Advertising\": 5,\n",
      "  \"Digital Out of Home\": 5,\n",
      "  \"SEO\": 10,\n",
      "  \"Email Marketing\": 10,\n",
      "  \"Content and Messaging\": 5,\n",
      "  \"Organic Social/Influencer\": 5,\n",
      "  \"SMS/In App Messaging\": 5\n",
      "}\n",
      "\n",
      "Reasoning:\n",
      "1. Social Advertising: Given the popularity and reach of social media platforms, allocating a higher budget to social advertising will help in reaching a wider audience and driving engagement.\n",
      "2. Search Advertising: Investing in search advertising is important as it helps in capturing potential customers who are actively searching for products or services related to your business.\n",
      "3. Digital Display Advertising: Allocating a moderate budget to digital display advertising can help in increasing brand visibility and reaching a broader audience across various websites and apps.\n",
      "4. Digital Video Advertising: With the rise in video consumption, investing in digital video advertising can be effective in engaging and capturing the attention of the target audience.\n",
      "5. Partner/Affiliate/Co-OP on Digital Channels: Collaborating with partners, affiliates, or co-op programs on digital channels can help in expanding reach and leveraging their existing customer base.\n",
      "6. Digital Audio Advertising: Allocating a small budget to digital audio advertising can be beneficial for targeting audiences who consume audio content through platforms like podcasts and music streaming services.\n",
      "7. Digital Out of Home: Allocating a small budget to digital out-of-home advertising can help in reaching a local audience and creating brand awareness in specific locations.\n",
      "8. SEO: Investing in SEO is crucial for improving organic search rankings and driving long-term traffic to your website.\n",
      "9. Email Marketing: Allocating a moderate budget to email marketing can help in nurturing leads,\n"
     ]
    }
   ],
   "source": [
    "print(result)"
   ]
  },
  {
   "cell_type": "markdown",
   "id": "a562b8f7-6f14-415b-bb2e-3157c0bbbaf4",
   "metadata": {},
   "source": [
    "## Method 2: Without Context/Document"
   ]
  },
  {
   "cell_type": "code",
   "execution_count": 94,
   "id": "4429c884-fb39-47f9-b13b-87ae213ee652",
   "metadata": {},
   "outputs": [],
   "source": [
    "categories = ['Social Advertising', 'Search Advertising', 'Digital Display Advertising', 'Digital Video Advertising', \n",
    " 'Partner/Affiliate/Co-OP on Digital Channels', 'Digital Audio Advertising', 'Digital Out of Home', 'SEO',\n",
    " 'Email Marketing', 'Content and Messaging', 'Organic Social/Influencer', 'SMS/In App Messaging']"
   ]
  },
  {
   "cell_type": "code",
   "execution_count": 98,
   "id": "96c01032-8355-4cd4-83fb-38ce5a552cb1",
   "metadata": {},
   "outputs": [],
   "source": [
    "query = \"\"\"\n",
    "    Act as a Marketing Manager and devise a marketing campaign strategy. Assign a marketing budget to the given categories.\n",
    "    OUTPUT FORMAT: ONLY JSON with categories as keys and assigned budget in percentages as values.\n",
    "    Also mention the reasons for assigning percentages to methods.\n",
    "\"\"\""
   ]
  },
  {
   "cell_type": "code",
   "execution_count": 99,
   "id": "f0ae0446-b972-4124-81a3-f4e5adfe98b6",
   "metadata": {},
   "outputs": [],
   "source": [
    "prompt = f\"\"\"\n",
    "Categories: \"{categories}\"\n",
    "{query}\n",
    "\"\"\""
   ]
  },
  {
   "cell_type": "code",
   "execution_count": 104,
   "id": "08b9df3f-2f2f-4e79-bb84-819cc5d222e4",
   "metadata": {},
   "outputs": [
    {
     "name": "stdout",
     "output_type": "stream",
     "text": [
      "--Sending request to OpenAI endpoint--\n"
     ]
    }
   ],
   "source": [
    "result = get_completion(prompt)"
   ]
  },
  {
   "cell_type": "code",
   "execution_count": 106,
   "id": "a8da22dd-e470-4bed-98f6-4c418048f439",
   "metadata": {},
   "outputs": [
    {
     "name": "stdout",
     "output_type": "stream",
     "text": [
      "{\n",
      "  \"Social Advertising\": 20,\n",
      "  \"Search Advertising\": 15,\n",
      "  \"Digital Display Advertising\": 10,\n",
      "  \"Digital Video Advertising\": 15,\n",
      "  \"Partner/Affiliate/Co-OP on Digital Channels\": 5,\n",
      "  \"Digital Audio Advertising\": 5,\n",
      "  \"Digital Out of Home\": 5,\n",
      "  \"SEO\": 10,\n",
      "  \"Email Marketing\": 10,\n",
      "  \"Content and Messaging\": 5,\n",
      "  \"Organic Social/Influencer\": 5,\n",
      "  \"SMS/In App Messaging\": 5\n",
      "}\n",
      "\n",
      "Reasons for assigning percentages to methods:\n",
      "\n",
      "1. Social Advertising (20%): Social media platforms have a wide reach and offer targeted advertising options, making it an effective channel for reaching the target audience.\n",
      "\n",
      "2. Search Advertising (15%): Search engine ads can capture users actively searching for products or services, providing high intent leads. Allocating a significant portion ensures visibility in search results.\n",
      "\n",
      "3. Digital Display Advertising (10%): Display ads help increase brand awareness and reach a broader audience. While not as targeted as other channels, they contribute to overall campaign visibility.\n",
      "\n",
      "4. Digital Video Advertising (15%): Video ads are engaging and can convey messages effectively. With the rise of video consumption online, allocating a higher percentage allows for impactful storytelling.\n",
      "\n",
      "5. Partner/Affiliate/Co-Op on Digital Channels (5%): Collaborating with partners, affiliates, or co-op campaigns can leverage their existing customer base and expand reach at a relatively lower cost.\n",
      "\n",
      "6. Digital Audio Advertising (5%): Streaming platforms and podcasts provide opportunities to reach audiences during audio content consumption. Assigning a small budget ensures presence in this growing medium.\n",
      "\n",
      "7. Digital Out of Home (5%): Outdoor advertising through digital billboards or screens in public spaces can create brand exposure and reinforce messaging. A smaller allocation is made due to limited targeting capabilities.\n",
      "\n",
      "8. SEO (10%): Investing in search engine optimization helps\n"
     ]
    }
   ],
   "source": [
    "print(result)"
   ]
  },
  {
   "cell_type": "markdown",
   "id": "a96f29f5-746b-4e1c-84e6-c04bb9edfb1b",
   "metadata": {},
   "source": [
    "## Method 3: Getting context from Similarity Search"
   ]
  },
  {
   "cell_type": "code",
   "execution_count": 121,
   "id": "1c025ffb-4be6-49d2-af01-d7852e0e544e",
   "metadata": {},
   "outputs": [],
   "source": [
    "from langchain.document_loaders import PyMuPDFLoader\n",
    "from langchain.embeddings.openai import OpenAIEmbeddings\n",
    "from langchain.text_splitter import RecursiveCharacterTextSplitter\n",
    "from langchain.vectorstores import Chroma\n",
    "\n",
    "# Load the document, split it into chunks, embed each chunk and load it into the vector store.\n",
    "raw_documents = PyMuPDFLoader('doc.pdf').load()\n",
    "text_splitter = RecursiveCharacterTextSplitter(chunk_size=500, chunk_overlap=50)\n",
    "documents = text_splitter.split_documents(raw_documents)\n",
    "db = Chroma.from_documents(documents, OpenAIEmbeddings())"
   ]
  },
  {
   "cell_type": "code",
   "execution_count": 136,
   "id": "d96b5827-0961-45e5-b78e-a0147adfd0dc",
   "metadata": {},
   "outputs": [],
   "source": [
    "categories = ['Social Advertising', 'Search Advertising', 'Digital Display Advertising', 'Digital Video Advertising', \n",
    " 'Partner/Affiliate/Co-OP on Digital Channels', 'Digital Audio Advertising', 'Digital Out of Home', 'SEO',\n",
    " 'Email Marketing', 'Content and Messaging', 'Organic Social/Influencer', 'SMS/In App Messaging']"
   ]
  },
  {
   "cell_type": "code",
   "execution_count": 141,
   "id": "ee2d6798-390d-42cc-9bb5-fe2d3d8bec71",
   "metadata": {},
   "outputs": [
    {
     "name": "stdout",
     "output_type": "stream",
     "text": [
      "\n",
      "* Social Advertising *\n",
      "year, 24% of marketers expect to have to reduce their marketing budget, 20% expect to have to adjust their marketing \n",
      "goals, 20% believe they’d have to reduce their scope, and 19% report they’d have to pivot their tactics completely. \n",
      "On the other hand, the channels they’d expect to keep \n",
      "running even in the face of an economic downturn  \n",
      "are those that generate the strongest returns.\n",
      "• Paid social media content\n",
      "• Print ads \n",
      "• In-person events \n",
      "• Content — blog and SEO\n",
      "• Podcasts\n",
      "\n",
      "------------------------\n",
      "\n",
      "\n",
      "* Search Advertising *\n",
      "17\n",
      "State of Marketing Trends 2023\n",
      "Contacting customers and prospects via SMS, \n",
      "Facebook messenger, and WhatsApp is also  \n",
      "growing in popularity. With more and more \n",
      "customers shopping from their phone, delivering \n",
      "ads, promotions, and discounts via text or \n",
      "messenger increases the chance that you’re \n",
      "delivering the right message at the right time.  \n",
      "In fact, automated marketing campaign workflows \n",
      "with SMS can increase conversions by 21%.\n",
      "Twenty-nine percent of marketers use a search-optimized \n",
      "website and blog to attract and convert leads. SEO work is \n",
      "a long game, so some marketing teams looking for quicker \n",
      "wins sometimes overlook how powerful it can be. But once \n",
      "a company sets up a blog and optimizes its webpages for \n",
      "search, it lays a foundation to significantly increase web \n",
      "traffic and inbound leads.\n",
      "Though it’s time-consuming, SEO work requires a relatively \n",
      "low financial investment, especially when compared to \n",
      "strategies like paid ads, events, and out-of-home ads. The \n",
      "low upfront costs and high success rate makes it one of the \n",
      "highest ROI channels used by marketers. And once it’s up \n",
      "and running, the sky's the limit.\n",
      "When it comes to the trend marketers will invest the most \n",
      "money in for 2023, SEO ranks third behind short-form \n",
      "video and influencer marketing.\n",
      "Mobile Messaging\n",
      "SEO\n",
      "of those who already do SEO \n",
      "work plan to increase or maintain \n",
      "their investment this year. \n",
      "88% \n",
      "SECTION 02  Emerging Marketing Trends and Plans for 2023\n",
      "\n",
      "------------------------\n",
      "\n",
      "\n",
      "* Digital Display Advertising *\n",
      "34\n",
      "State of Marketing Trends 2023\n",
      "When it comes to spending, brands revealed that they upped their \n",
      "investment in video in 2022. Compared to 2021, more businesses \n",
      "allocated at least 10% of their overall marketing budget to video. \n",
      "What are brands planning for 2023? Even with economists predicting a likely recession ahead, only 3% of \n",
      "companies plan to reduce their video budget. One in seven companies plan to make a heavier investment \n",
      "in video, upping their video spend by more than 10%.\n",
      "\n",
      "------------------------\n",
      "\n"
     ]
    },
    {
     "name": "stderr",
     "output_type": "stream",
     "text": [
      "Retrying langchain.embeddings.openai.embed_with_retry.<locals>._embed_with_retry in 4.0 seconds as it raised RateLimitError: Rate limit reached for default-text-embedding-ada-002 in organization org-32zXsaqWgFJatmuBZbdQhfIc on requests per min. Limit: 3 / min. Please try again in 20s. Contact us through our help center at help.openai.com if you continue to have issues. Please add a payment method to your account to increase your rate limit. Visit https://platform.openai.com/account/billing to add a payment method..\n",
      "Retrying langchain.embeddings.openai.embed_with_retry.<locals>._embed_with_retry in 4.0 seconds as it raised RateLimitError: Rate limit reached for default-text-embedding-ada-002 in organization org-32zXsaqWgFJatmuBZbdQhfIc on requests per min. Limit: 3 / min. Please try again in 20s. Contact us through our help center at help.openai.com if you continue to have issues. Please add a payment method to your account to increase your rate limit. Visit https://platform.openai.com/account/billing to add a payment method..\n",
      "Retrying langchain.embeddings.openai.embed_with_retry.<locals>._embed_with_retry in 4.0 seconds as it raised RateLimitError: Rate limit reached for default-text-embedding-ada-002 in organization org-32zXsaqWgFJatmuBZbdQhfIc on requests per min. Limit: 3 / min. Please try again in 20s. Contact us through our help center at help.openai.com if you continue to have issues. Please add a payment method to your account to increase your rate limit. Visit https://platform.openai.com/account/billing to add a payment method..\n",
      "Retrying langchain.embeddings.openai.embed_with_retry.<locals>._embed_with_retry in 8.0 seconds as it raised RateLimitError: Rate limit reached for default-text-embedding-ada-002 in organization org-32zXsaqWgFJatmuBZbdQhfIc on requests per min. Limit: 3 / min. Please try again in 20s. Contact us through our help center at help.openai.com if you continue to have issues. Please add a payment method to your account to increase your rate limit. Visit https://platform.openai.com/account/billing to add a payment method..\n"
     ]
    },
    {
     "name": "stdout",
     "output_type": "stream",
     "text": [
      "\n",
      "* Digital Video Advertising *\n",
      "34\n",
      "State of Marketing Trends 2023\n",
      "When it comes to spending, brands revealed that they upped their \n",
      "investment in video in 2022. Compared to 2021, more businesses \n",
      "allocated at least 10% of their overall marketing budget to video. \n",
      "What are brands planning for 2023? Even with economists predicting a likely recession ahead, only 3% of \n",
      "companies plan to reduce their video budget. One in seven companies plan to make a heavier investment \n",
      "in video, upping their video spend by more than 10%.\n",
      "\n",
      "------------------------\n",
      "\n"
     ]
    },
    {
     "name": "stderr",
     "output_type": "stream",
     "text": [
      "Retrying langchain.embeddings.openai.embed_with_retry.<locals>._embed_with_retry in 4.0 seconds as it raised RateLimitError: Rate limit reached for default-text-embedding-ada-002 in organization org-32zXsaqWgFJatmuBZbdQhfIc on requests per min. Limit: 3 / min. Please try again in 20s. Contact us through our help center at help.openai.com if you continue to have issues. Please add a payment method to your account to increase your rate limit. Visit https://platform.openai.com/account/billing to add a payment method..\n",
      "Retrying langchain.embeddings.openai.embed_with_retry.<locals>._embed_with_retry in 4.0 seconds as it raised RateLimitError: Rate limit reached for default-text-embedding-ada-002 in organization org-32zXsaqWgFJatmuBZbdQhfIc on requests per min. Limit: 3 / min. Please try again in 20s. Contact us through our help center at help.openai.com if you continue to have issues. Please add a payment method to your account to increase your rate limit. Visit https://platform.openai.com/account/billing to add a payment method..\n",
      "Retrying langchain.embeddings.openai.embed_with_retry.<locals>._embed_with_retry in 4.0 seconds as it raised RateLimitError: Rate limit reached for default-text-embedding-ada-002 in organization org-32zXsaqWgFJatmuBZbdQhfIc on requests per min. Limit: 3 / min. Please try again in 20s. Contact us through our help center at help.openai.com if you continue to have issues. Please add a payment method to your account to increase your rate limit. Visit https://platform.openai.com/account/billing to add a payment method..\n",
      "Retrying langchain.embeddings.openai.embed_with_retry.<locals>._embed_with_retry in 8.0 seconds as it raised RateLimitError: Rate limit reached for default-text-embedding-ada-002 in organization org-32zXsaqWgFJatmuBZbdQhfIc on requests per min. Limit: 3 / min. Please try again in 20s. Contact us through our help center at help.openai.com if you continue to have issues. Please add a payment method to your account to increase your rate limit. Visit https://platform.openai.com/account/billing to add a payment method..\n"
     ]
    },
    {
     "name": "stdout",
     "output_type": "stream",
     "text": [
      "\n",
      "* Partner/Affiliate/Co-OP on Digital Channels *\n",
      "year, 24% of marketers expect to have to reduce their marketing budget, 20% expect to have to adjust their marketing \n",
      "goals, 20% believe they’d have to reduce their scope, and 19% report they’d have to pivot their tactics completely. \n",
      "On the other hand, the channels they’d expect to keep \n",
      "running even in the face of an economic downturn  \n",
      "are those that generate the strongest returns.\n",
      "• Paid social media content\n",
      "• Print ads \n",
      "• In-person events \n",
      "• Content — blog and SEO\n",
      "• Podcasts\n",
      "\n",
      "------------------------\n",
      "\n"
     ]
    },
    {
     "name": "stderr",
     "output_type": "stream",
     "text": [
      "Retrying langchain.embeddings.openai.embed_with_retry.<locals>._embed_with_retry in 4.0 seconds as it raised RateLimitError: Rate limit reached for default-text-embedding-ada-002 in organization org-32zXsaqWgFJatmuBZbdQhfIc on requests per min. Limit: 3 / min. Please try again in 20s. Contact us through our help center at help.openai.com if you continue to have issues. Please add a payment method to your account to increase your rate limit. Visit https://platform.openai.com/account/billing to add a payment method..\n",
      "Retrying langchain.embeddings.openai.embed_with_retry.<locals>._embed_with_retry in 4.0 seconds as it raised RateLimitError: Rate limit reached for default-text-embedding-ada-002 in organization org-32zXsaqWgFJatmuBZbdQhfIc on requests per min. Limit: 3 / min. Please try again in 20s. Contact us through our help center at help.openai.com if you continue to have issues. Please add a payment method to your account to increase your rate limit. Visit https://platform.openai.com/account/billing to add a payment method..\n",
      "Retrying langchain.embeddings.openai.embed_with_retry.<locals>._embed_with_retry in 4.0 seconds as it raised RateLimitError: Rate limit reached for default-text-embedding-ada-002 in organization org-32zXsaqWgFJatmuBZbdQhfIc on requests per min. Limit: 3 / min. Please try again in 20s. Contact us through our help center at help.openai.com if you continue to have issues. Please add a payment method to your account to increase your rate limit. Visit https://platform.openai.com/account/billing to add a payment method..\n",
      "Retrying langchain.embeddings.openai.embed_with_retry.<locals>._embed_with_retry in 8.0 seconds as it raised RateLimitError: Rate limit reached for default-text-embedding-ada-002 in organization org-32zXsaqWgFJatmuBZbdQhfIc on requests per min. Limit: 3 / min. Please try again in 20s. Contact us through our help center at help.openai.com if you continue to have issues. Please add a payment method to your account to increase your rate limit. Visit https://platform.openai.com/account/billing to add a payment method..\n"
     ]
    },
    {
     "name": "stdout",
     "output_type": "stream",
     "text": [
      "\n",
      "* Digital Audio Advertising *\n",
      "year, 24% of marketers expect to have to reduce their marketing budget, 20% expect to have to adjust their marketing \n",
      "goals, 20% believe they’d have to reduce their scope, and 19% report they’d have to pivot their tactics completely. \n",
      "On the other hand, the channels they’d expect to keep \n",
      "running even in the face of an economic downturn  \n",
      "are those that generate the strongest returns.\n",
      "• Paid social media content\n",
      "• Print ads \n",
      "• In-person events \n",
      "• Content — blog and SEO\n",
      "• Podcasts\n",
      "\n",
      "------------------------\n",
      "\n"
     ]
    },
    {
     "name": "stderr",
     "output_type": "stream",
     "text": [
      "Retrying langchain.embeddings.openai.embed_with_retry.<locals>._embed_with_retry in 4.0 seconds as it raised RateLimitError: Rate limit reached for default-text-embedding-ada-002 in organization org-32zXsaqWgFJatmuBZbdQhfIc on requests per min. Limit: 3 / min. Please try again in 20s. Contact us through our help center at help.openai.com if you continue to have issues. Please add a payment method to your account to increase your rate limit. Visit https://platform.openai.com/account/billing to add a payment method..\n",
      "Retrying langchain.embeddings.openai.embed_with_retry.<locals>._embed_with_retry in 4.0 seconds as it raised RateLimitError: Rate limit reached for default-text-embedding-ada-002 in organization org-32zXsaqWgFJatmuBZbdQhfIc on requests per min. Limit: 3 / min. Please try again in 20s. Contact us through our help center at help.openai.com if you continue to have issues. Please add a payment method to your account to increase your rate limit. Visit https://platform.openai.com/account/billing to add a payment method..\n",
      "Retrying langchain.embeddings.openai.embed_with_retry.<locals>._embed_with_retry in 4.0 seconds as it raised RateLimitError: Rate limit reached for default-text-embedding-ada-002 in organization org-32zXsaqWgFJatmuBZbdQhfIc on requests per min. Limit: 3 / min. Please try again in 20s. Contact us through our help center at help.openai.com if you continue to have issues. Please add a payment method to your account to increase your rate limit. Visit https://platform.openai.com/account/billing to add a payment method..\n"
     ]
    },
    {
     "name": "stdout",
     "output_type": "stream",
     "text": [
      "\n",
      "* Digital Out of Home *\n",
      "34\n",
      "State of Marketing Trends 2023\n",
      "When it comes to spending, brands revealed that they upped their \n",
      "investment in video in 2022. Compared to 2021, more businesses \n",
      "allocated at least 10% of their overall marketing budget to video. \n",
      "What are brands planning for 2023? Even with economists predicting a likely recession ahead, only 3% of \n",
      "companies plan to reduce their video budget. One in seven companies plan to make a heavier investment \n",
      "in video, upping their video spend by more than 10%.\n",
      "\n",
      "------------------------\n",
      "\n"
     ]
    },
    {
     "name": "stderr",
     "output_type": "stream",
     "text": [
      "Retrying langchain.embeddings.openai.embed_with_retry.<locals>._embed_with_retry in 4.0 seconds as it raised RateLimitError: Rate limit reached for default-text-embedding-ada-002 in organization org-32zXsaqWgFJatmuBZbdQhfIc on requests per min. Limit: 3 / min. Please try again in 20s. Contact us through our help center at help.openai.com if you continue to have issues. Please add a payment method to your account to increase your rate limit. Visit https://platform.openai.com/account/billing to add a payment method..\n",
      "Retrying langchain.embeddings.openai.embed_with_retry.<locals>._embed_with_retry in 4.0 seconds as it raised RateLimitError: Rate limit reached for default-text-embedding-ada-002 in organization org-32zXsaqWgFJatmuBZbdQhfIc on requests per min. Limit: 3 / min. Please try again in 20s. Contact us through our help center at help.openai.com if you continue to have issues. Please add a payment method to your account to increase your rate limit. Visit https://platform.openai.com/account/billing to add a payment method..\n",
      "Retrying langchain.embeddings.openai.embed_with_retry.<locals>._embed_with_retry in 4.0 seconds as it raised RateLimitError: Rate limit reached for default-text-embedding-ada-002 in organization org-32zXsaqWgFJatmuBZbdQhfIc on requests per min. Limit: 3 / min. Please try again in 20s. Contact us through our help center at help.openai.com if you continue to have issues. Please add a payment method to your account to increase your rate limit. Visit https://platform.openai.com/account/billing to add a payment method..\n",
      "Retrying langchain.embeddings.openai.embed_with_retry.<locals>._embed_with_retry in 8.0 seconds as it raised RateLimitError: Rate limit reached for default-text-embedding-ada-002 in organization org-32zXsaqWgFJatmuBZbdQhfIc on requests per min. Limit: 3 / min. Please try again in 20s. Contact us through our help center at help.openai.com if you continue to have issues. Please add a payment method to your account to increase your rate limit. Visit https://platform.openai.com/account/billing to add a payment method..\n"
     ]
    },
    {
     "name": "stdout",
     "output_type": "stream",
     "text": [
      "\n",
      "* SEO *\n",
      "low upfront costs and high success rate makes it one of the \n",
      "highest ROI channels used by marketers. And once it’s up \n",
      "and running, the sky's the limit.\n",
      "When it comes to the trend marketers will invest the most \n",
      "money in for 2023, SEO ranks third behind short-form \n",
      "video and influencer marketing.\n",
      "Mobile Messaging\n",
      "SEO\n",
      "of those who already do SEO \n",
      "work plan to increase or maintain \n",
      "their investment this year. \n",
      "88% \n",
      "SECTION 02  Emerging Marketing Trends and Plans for 2023\n",
      "\n",
      "------------------------\n",
      "\n"
     ]
    },
    {
     "name": "stderr",
     "output_type": "stream",
     "text": [
      "Retrying langchain.embeddings.openai.embed_with_retry.<locals>._embed_with_retry in 4.0 seconds as it raised RateLimitError: Rate limit reached for default-text-embedding-ada-002 in organization org-32zXsaqWgFJatmuBZbdQhfIc on requests per min. Limit: 3 / min. Please try again in 20s. Contact us through our help center at help.openai.com if you continue to have issues. Please add a payment method to your account to increase your rate limit. Visit https://platform.openai.com/account/billing to add a payment method..\n",
      "Retrying langchain.embeddings.openai.embed_with_retry.<locals>._embed_with_retry in 4.0 seconds as it raised RateLimitError: Rate limit reached for default-text-embedding-ada-002 in organization org-32zXsaqWgFJatmuBZbdQhfIc on requests per min. Limit: 3 / min. Please try again in 20s. Contact us through our help center at help.openai.com if you continue to have issues. Please add a payment method to your account to increase your rate limit. Visit https://platform.openai.com/account/billing to add a payment method..\n",
      "Retrying langchain.embeddings.openai.embed_with_retry.<locals>._embed_with_retry in 4.0 seconds as it raised RateLimitError: Rate limit reached for default-text-embedding-ada-002 in organization org-32zXsaqWgFJatmuBZbdQhfIc on requests per min. Limit: 3 / min. Please try again in 20s. Contact us through our help center at help.openai.com if you continue to have issues. Please add a payment method to your account to increase your rate limit. Visit https://platform.openai.com/account/billing to add a payment method..\n",
      "Retrying langchain.embeddings.openai.embed_with_retry.<locals>._embed_with_retry in 8.0 seconds as it raised RateLimitError: Rate limit reached for default-text-embedding-ada-002 in organization org-32zXsaqWgFJatmuBZbdQhfIc on requests per min. Limit: 3 / min. Please try again in 20s. Contact us through our help center at help.openai.com if you continue to have issues. Please add a payment method to your account to increase your rate limit. Visit https://platform.openai.com/account/billing to add a payment method..\n"
     ]
    },
    {
     "name": "stdout",
     "output_type": "stream",
     "text": [
      "\n",
      "* Email Marketing *\n",
      "38\n",
      "State of Marketing Trends 2023\n",
      "1\n",
      "Email Marketing Trends from Litmus\n",
      "Email marketing is an unmatched investment for connecting with customers — brands \n",
      "get back $36 for every $1 spent on the channel on average. However, you must evolve \n",
      "to create relevant, high-quality emails that stand out. 41.1% of subscribers ‘skim’ \n",
      "emails, which means they spend between two and eight seconds on your message. \n",
      "SECTION 07\n",
      "\n",
      "------------------------\n",
      "\n"
     ]
    },
    {
     "name": "stderr",
     "output_type": "stream",
     "text": [
      "Retrying langchain.embeddings.openai.embed_with_retry.<locals>._embed_with_retry in 4.0 seconds as it raised RateLimitError: Rate limit reached for default-text-embedding-ada-002 in organization org-32zXsaqWgFJatmuBZbdQhfIc on requests per min. Limit: 3 / min. Please try again in 20s. Contact us through our help center at help.openai.com if you continue to have issues. Please add a payment method to your account to increase your rate limit. Visit https://platform.openai.com/account/billing to add a payment method..\n",
      "Retrying langchain.embeddings.openai.embed_with_retry.<locals>._embed_with_retry in 4.0 seconds as it raised RateLimitError: Rate limit reached for default-text-embedding-ada-002 in organization org-32zXsaqWgFJatmuBZbdQhfIc on requests per min. Limit: 3 / min. Please try again in 20s. Contact us through our help center at help.openai.com if you continue to have issues. Please add a payment method to your account to increase your rate limit. Visit https://platform.openai.com/account/billing to add a payment method..\n",
      "Retrying langchain.embeddings.openai.embed_with_retry.<locals>._embed_with_retry in 4.0 seconds as it raised RateLimitError: Rate limit reached for default-text-embedding-ada-002 in organization org-32zXsaqWgFJatmuBZbdQhfIc on requests per min. Limit: 3 / min. Please try again in 20s. Contact us through our help center at help.openai.com if you continue to have issues. Please add a payment method to your account to increase your rate limit. Visit https://platform.openai.com/account/billing to add a payment method..\n"
     ]
    },
    {
     "name": "stdout",
     "output_type": "stream",
     "text": [
      "\n",
      "* Content and Messaging *\n",
      "17\n",
      "State of Marketing Trends 2023\n",
      "Contacting customers and prospects via SMS, \n",
      "Facebook messenger, and WhatsApp is also  \n",
      "growing in popularity. With more and more \n",
      "customers shopping from their phone, delivering \n",
      "ads, promotions, and discounts via text or \n",
      "messenger increases the chance that you’re \n",
      "delivering the right message at the right time.  \n",
      "In fact, automated marketing campaign workflows \n",
      "with SMS can increase conversions by 21%.\n",
      "Twenty-nine percent of marketers use a search-optimized \n",
      "website and blog to attract and convert leads. SEO work is \n",
      "a long game, so some marketing teams looking for quicker \n",
      "wins sometimes overlook how powerful it can be. But once \n",
      "a company sets up a blog and optimizes its webpages for \n",
      "search, it lays a foundation to significantly increase web \n",
      "traffic and inbound leads.\n",
      "Though it’s time-consuming, SEO work requires a relatively \n",
      "low financial investment, especially when compared to \n",
      "strategies like paid ads, events, and out-of-home ads. The \n",
      "low upfront costs and high success rate makes it one of the \n",
      "highest ROI channels used by marketers. And once it’s up \n",
      "and running, the sky's the limit.\n",
      "When it comes to the trend marketers will invest the most \n",
      "money in for 2023, SEO ranks third behind short-form \n",
      "video and influencer marketing.\n",
      "Mobile Messaging\n",
      "SEO\n",
      "of those who already do SEO \n",
      "work plan to increase or maintain \n",
      "their investment this year. \n",
      "88% \n",
      "SECTION 02  Emerging Marketing Trends and Plans for 2023\n",
      "\n",
      "------------------------\n",
      "\n"
     ]
    },
    {
     "name": "stderr",
     "output_type": "stream",
     "text": [
      "Retrying langchain.embeddings.openai.embed_with_retry.<locals>._embed_with_retry in 4.0 seconds as it raised RateLimitError: Rate limit reached for default-text-embedding-ada-002 in organization org-32zXsaqWgFJatmuBZbdQhfIc on requests per min. Limit: 3 / min. Please try again in 20s. Contact us through our help center at help.openai.com if you continue to have issues. Please add a payment method to your account to increase your rate limit. Visit https://platform.openai.com/account/billing to add a payment method..\n",
      "Retrying langchain.embeddings.openai.embed_with_retry.<locals>._embed_with_retry in 4.0 seconds as it raised RateLimitError: Rate limit reached for default-text-embedding-ada-002 in organization org-32zXsaqWgFJatmuBZbdQhfIc on requests per min. Limit: 3 / min. Please try again in 20s. Contact us through our help center at help.openai.com if you continue to have issues. Please add a payment method to your account to increase your rate limit. Visit https://platform.openai.com/account/billing to add a payment method..\n",
      "Retrying langchain.embeddings.openai.embed_with_retry.<locals>._embed_with_retry in 4.0 seconds as it raised RateLimitError: Rate limit reached for default-text-embedding-ada-002 in organization org-32zXsaqWgFJatmuBZbdQhfIc on requests per min. Limit: 3 / min. Please try again in 20s. Contact us through our help center at help.openai.com if you continue to have issues. Please add a payment method to your account to increase your rate limit. Visit https://platform.openai.com/account/billing to add a payment method..\n",
      "Retrying langchain.embeddings.openai.embed_with_retry.<locals>._embed_with_retry in 8.0 seconds as it raised RateLimitError: Rate limit reached for default-text-embedding-ada-002 in organization org-32zXsaqWgFJatmuBZbdQhfIc on requests per min. Limit: 3 / min. Please try again in 20s. Contact us through our help center at help.openai.com if you continue to have issues. Please add a payment method to your account to increase your rate limit. Visit https://platform.openai.com/account/billing to add a payment method..\n"
     ]
    },
    {
     "name": "stdout",
     "output_type": "stream",
     "text": [
      "\n",
      "* Organic Social/Influencer *\n",
      "of Gen Zers have bought a product based on an \n",
      "influencer’s recommendation in the past three \n",
      "months. More than one in four marketers currently \n",
      "leverage influencer marketing, and it offers the \n",
      "second-highest ROI of any trend.\n",
      "Of the companies that worked with influencers last year, the \n",
      "influencers they worked with had varying audience sizes.\n",
      "Nano-influencers,  \n",
      "with 1,000-9,999 followers or subscribers\n",
      "Micro-influencers,  \n",
      "with 10,000-99,999 followers or subscribers\n",
      "Macro-influencers,\n",
      "\n",
      "------------------------\n",
      "\n"
     ]
    },
    {
     "name": "stderr",
     "output_type": "stream",
     "text": [
      "Retrying langchain.embeddings.openai.embed_with_retry.<locals>._embed_with_retry in 4.0 seconds as it raised RateLimitError: Rate limit reached for default-text-embedding-ada-002 in organization org-32zXsaqWgFJatmuBZbdQhfIc on requests per min. Limit: 3 / min. Please try again in 20s. Contact us through our help center at help.openai.com if you continue to have issues. Please add a payment method to your account to increase your rate limit. Visit https://platform.openai.com/account/billing to add a payment method..\n",
      "Retrying langchain.embeddings.openai.embed_with_retry.<locals>._embed_with_retry in 4.0 seconds as it raised RateLimitError: Rate limit reached for default-text-embedding-ada-002 in organization org-32zXsaqWgFJatmuBZbdQhfIc on requests per min. Limit: 3 / min. Please try again in 20s. Contact us through our help center at help.openai.com if you continue to have issues. Please add a payment method to your account to increase your rate limit. Visit https://platform.openai.com/account/billing to add a payment method..\n",
      "Retrying langchain.embeddings.openai.embed_with_retry.<locals>._embed_with_retry in 4.0 seconds as it raised RateLimitError: Rate limit reached for default-text-embedding-ada-002 in organization org-32zXsaqWgFJatmuBZbdQhfIc on requests per min. Limit: 3 / min. Please try again in 20s. Contact us through our help center at help.openai.com if you continue to have issues. Please add a payment method to your account to increase your rate limit. Visit https://platform.openai.com/account/billing to add a payment method..\n",
      "Retrying langchain.embeddings.openai.embed_with_retry.<locals>._embed_with_retry in 8.0 seconds as it raised RateLimitError: Rate limit reached for default-text-embedding-ada-002 in organization org-32zXsaqWgFJatmuBZbdQhfIc on requests per min. Limit: 3 / min. Please try again in 20s. Contact us through our help center at help.openai.com if you continue to have issues. Please add a payment method to your account to increase your rate limit. Visit https://platform.openai.com/account/billing to add a payment method..\n"
     ]
    },
    {
     "name": "stdout",
     "output_type": "stream",
     "text": [
      "\n",
      "* SMS/In App Messaging *\n",
      "17\n",
      "State of Marketing Trends 2023\n",
      "Contacting customers and prospects via SMS, \n",
      "Facebook messenger, and WhatsApp is also  \n",
      "growing in popularity. With more and more \n",
      "customers shopping from their phone, delivering \n",
      "ads, promotions, and discounts via text or \n",
      "messenger increases the chance that you’re \n",
      "delivering the right message at the right time.  \n",
      "In fact, automated marketing campaign workflows \n",
      "with SMS can increase conversions by 21%.\n",
      "Twenty-nine percent of marketers use a search-optimized\n",
      "\n",
      "------------------------\n",
      "\n"
     ]
    }
   ],
   "source": [
    "context = []\n",
    "\n",
    "for i in categories:\n",
    "    query = f\"How much should be spent on {i} for marketing campaign?\"\n",
    "    docs = db.similarity_search(query)\n",
    "    context.append(docs[0].page_content)\n",
    "    context.append(docs[1].page_content)\n",
    "    # print(f\"\\n* {i} *\")\n",
    "    # print(docs[0].page_content)\n",
    "    # print(\"\\n------------------------\\n\")\n"
   ]
  },
  {
   "cell_type": "code",
   "execution_count": 143,
   "id": "f43d0e2f-0241-42bb-bbe5-3c0c8332ebfe",
   "metadata": {},
   "outputs": [
    {
     "name": "stdout",
     "output_type": "stream",
     "text": [
      "24\n"
     ]
    }
   ],
   "source": [
    "print(len(context))"
   ]
  },
  {
   "cell_type": "code",
   "execution_count": 144,
   "id": "c66bed69-459c-4a21-b863-a7002b3e4596",
   "metadata": {},
   "outputs": [],
   "source": [
    "text_context = ','.join(context)"
   ]
  },
  {
   "cell_type": "code",
   "execution_count": 147,
   "id": "a9d311dd-66a0-47be-bbd9-7c458d341923",
   "metadata": {},
   "outputs": [],
   "source": [
    "query = \"\"\"\n",
    "    Read the information and trends from the context and assign a marketing budget to the given categories.\n",
    "    OUTPUT FORMAT: ONLY JSON with categories as keys and assigned budget in percentages as values.\n",
    "    Also mention the reasons for assigning percentages to methods.\n",
    "\"\"\""
   ]
  },
  {
   "cell_type": "code",
   "execution_count": 148,
   "id": "50395cb5-0ee1-4ad6-8f87-c64bf7cf1036",
   "metadata": {},
   "outputs": [],
   "source": [
    "prompt = f\"\"\"\n",
    "Context: \"{text_context}\"\n",
    "Categories: \"{categories}\"\n",
    "{query}\n",
    "\"\"\""
   ]
  },
  {
   "cell_type": "code",
   "execution_count": 150,
   "id": "ebbfe4f2-3168-4be9-85ba-01f8ef8b0973",
   "metadata": {},
   "outputs": [
    {
     "name": "stdout",
     "output_type": "stream",
     "text": [
      "--Sending request to OpenAI endpoint--\n"
     ]
    }
   ],
   "source": [
    "result = get_completion(prompt)"
   ]
  },
  {
   "cell_type": "code",
   "execution_count": 151,
   "id": "644625f8-8354-4a02-9b9c-9aef2d630c29",
   "metadata": {},
   "outputs": [
    {
     "name": "stdout",
     "output_type": "stream",
     "text": [
      "{\n",
      "  \"Social Advertising\": 15,\n",
      "  \"Search Advertising\": 10,\n",
      "  \"Digital Display Advertising\": 8,\n",
      "  \"Digital Video Advertising\": 12,\n",
      "  \"Partner/Affiliate/Co-OP on Digital Channels\": 5,\n",
      "  \"Digital Audio Advertising\": 3,\n",
      "  \"Digital Out of Home\": 2,\n",
      "  \"SEO\": 20,\n",
      "  \"Email Marketing\": 10,\n",
      "  \"Content and Messaging\": 7,\n",
      "  \"Organic Social/Influencer\": 8,\n",
      "  \"SMS/In App Messaging\": 0\n",
      "}\n",
      "\n",
      "Reasons for assigning percentages:\n",
      "1. Social Advertising: Given the popularity and effectiveness of paid social media content, allocating a higher budget percentage can help reach a wider audience and generate strong returns.\n",
      "2. Search Advertising: With 29% of marketers using search-optimized websites and blogs to attract leads, investing in search advertising can complement SEO efforts and drive targeted traffic.\n",
      "3. Digital Display Advertising: Allocating a moderate budget percentage to digital display advertising allows for brand visibility and reaching audiences across various online platforms.\n",
      "4. Digital Video Advertising: As brands have increased their investment in video marketing and it offers high ROI, assigning a significant budget percentage can capitalize on this trend.\n",
      "5. Partner/Affiliate/Co-OP on Digital Channels: While not as prominent as other methods, allocating a small budget percentage to partner or affiliate marketing can leverage existing networks and collaborations.\n",
      "6. Digital Audio Advertising: Although not as widely used, dedicating a small budget percentage to digital audio advertising can tap into the growing popularity of podcasts and audio content consumption.\n",
      "7. Digital Out of Home: Assigning a minimal budget percentage to digital out-of-home advertising acknowledges its potential impact but recognizes that other channels may yield better results.\n",
      "8. SEO: Given its low financial investment and high success rate, allocating a substantial budget percentage to SEO can significantly increase web traffic and inbound leads.\n",
      "9. Email Marketing: With a high ROI of\n"
     ]
    }
   ],
   "source": [
    "print(result)"
   ]
  }
 ],
 "metadata": {
  "kernelspec": {
   "display_name": "Python 3 (ipykernel)",
   "language": "python",
   "name": "python3"
  },
  "language_info": {
   "codemirror_mode": {
    "name": "ipython",
    "version": 3
   },
   "file_extension": ".py",
   "mimetype": "text/x-python",
   "name": "python",
   "nbconvert_exporter": "python",
   "pygments_lexer": "ipython3",
   "version": "3.10.0"
  }
 },
 "nbformat": 4,
 "nbformat_minor": 5
}
